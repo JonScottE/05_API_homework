{
 "cells": [
  {
   "cell_type": "code",
   "execution_count": 1,
   "id": "a003b86c-cb4f-411f-872f-e0d2ac399cf3",
   "metadata": {},
   "outputs": [],
   "source": [
    "##API's Homework\n"
   ]
  },
  {
   "cell_type": "code",
   "execution_count": 2,
   "id": "3919e1ca-9ed8-457b-9bce-5b9142d6e759",
   "metadata": {},
   "outputs": [],
   "source": [
    "# Initial imports\n",
    "\n",
    "import os\n",
    "import requests\n",
    "import pandas as pd\n",
    "from dotenv import load_dotenv\n",
    "import alpaca_trade_api as tradeapi\n",
    "from MCForecastTools import MCSimulation\n",
    "\n",
    "%matplotlib inline"
   ]
  },
  {
   "cell_type": "code",
   "execution_count": 3,
   "id": "ad01438f-d67d-4fe0-8590-dea797cb15a3",
   "metadata": {},
   "outputs": [
    {
     "data": {
      "text/plain": [
       "True"
      ]
     },
     "execution_count": 3,
     "metadata": {},
     "output_type": "execute_result"
    }
   ],
   "source": [
    " # Load .env enviroment variables (output should read true)\n",
    "load_dotenv()"
   ]
  },
  {
   "cell_type": "code",
   "execution_count": 4,
   "id": "c0c53356-56c1-4d21-82ca-3dc046d6c39c",
   "metadata": {},
   "outputs": [],
   "source": [
    "## Part 1 - Personal Finance Planner"
   ]
  },
  {
   "cell_type": "code",
   "execution_count": 5,
   "id": "15ee121b-ad88-4b56-a9b7-24eb90e01dd1",
   "metadata": {},
   "outputs": [],
   "source": [
    "##  Collect Crypto Prices Using the requests Library"
   ]
  },
  {
   "cell_type": "code",
   "execution_count": 6,
   "id": "859bcbe2-8014-4151-bc6b-dc0d3a9229ba",
   "metadata": {},
   "outputs": [],
   "source": [
    " # Set current amount of crypto assets\n",
    "\n",
    "my_btc = 1.2\n",
    "my_eth = 5.3"
   ]
  },
  {
   "cell_type": "code",
   "execution_count": 7,
   "id": "f3c2679f-f3d8-49f4-a669-0c70c410acba",
   "metadata": {},
   "outputs": [],
   "source": [
    "# Crypto API URLs (from initial starter code)\n",
    "btc_url = \"https://api.alternative.me/v1/ticker/Bitcoin/\"\n",
    "eth_url = \"https://api.alternative.me/v1/ticker/Ethereum/\""
   ]
  },
  {
   "cell_type": "code",
   "execution_count": 8,
   "id": "2edc7754-3a9d-44dd-9f3e-7e68668d4abb",
   "metadata": {},
   "outputs": [],
   "source": [
    "btc_url = btc_url + \"?format-json\"\n",
    "eth_url = eth_url + \"?format-json\""
   ]
  },
  {
   "cell_type": "code",
   "execution_count": 9,
   "id": "5acc798f-1524-4a7a-924c-8b3e943ae1b4",
   "metadata": {},
   "outputs": [
    {
     "data": {
      "text/plain": [
       "43945.0"
      ]
     },
     "execution_count": 9,
     "metadata": {},
     "output_type": "execute_result"
    }
   ],
   "source": [
    "# Fetch current BTC price\n",
    "btc_live_data = requests.get(btc_url).json()[0]['price_usd']\n",
    "btc_live_data = (float(btc_live_data))\n",
    "btc_live_data"
   ]
  },
  {
   "cell_type": "code",
   "execution_count": 10,
   "id": "cc167cc5-7d0e-4c20-bcec-0f41e06cb3b7",
   "metadata": {},
   "outputs": [
    {
     "data": {
      "text/plain": [
       "2972.88"
      ]
     },
     "execution_count": 10,
     "metadata": {},
     "output_type": "execute_result"
    }
   ],
   "source": [
    "# Fetch current ETH price\n",
    "eth_live_data = requests.get(eth_url).json()[0]['price_usd']\n",
    "eth_live_data = (float(eth_live_data))\n",
    "eth_live_data"
   ]
  },
  {
   "cell_type": "code",
   "execution_count": 11,
   "id": "983d368e-5a4a-4ed2-847e-554821146b84",
   "metadata": {},
   "outputs": [],
   "source": [
    "# store responses in variables - already done above\n"
   ]
  },
  {
   "cell_type": "code",
   "execution_count": 12,
   "id": "a3338a8a-d022-40c9-9a3f-9d830c323226",
   "metadata": {},
   "outputs": [],
   "source": [
    "# Compute current value of my crpto\n",
    "my_btc_value = my_btc * btc_live_data\n",
    "\n",
    "my_eth_value = my_eth * eth_live_data"
   ]
  },
  {
   "cell_type": "code",
   "execution_count": 13,
   "id": "e1794d66-43d2-4e05-99fc-cde7d80afec7",
   "metadata": {},
   "outputs": [
    {
     "name": "stdout",
     "output_type": "stream",
     "text": [
      "The current value of your 1.2 BTC is $52734.00\n",
      "The current value of your 5.3 ETH is $15756.26\n"
     ]
    }
   ],
   "source": [
    "# Print current crypto wallet balance\n",
    "print(f\"The current value of your {my_btc} BTC is ${my_btc_value:0.2f}\")\n",
    "print(f\"The current value of your {my_eth} ETH is ${my_eth_value:0.2f}\")\n",
    "\n",
    "# (output should read: The current value of your 1.2 BTC is $14309.16)\n",
    "# (The current value of your 5.3 ETH is $2096.47)"
   ]
  },
  {
   "cell_type": "code",
   "execution_count": 14,
   "id": "fb445ac8-c4f6-4476-8adc-f2e1e5932170",
   "metadata": {},
   "outputs": [],
   "source": [
    "# Damnit... breaks computer - (this was old notes :-) I got it now)\n",
    "\n",
    "# ok, this one above took me a second as I kept getting errors, \n",
    "# but I came to realize the data wasn't pulling in past 2 decimals anyway\n",
    "# hence the float\n",
    "\n",
    "# moving on..."
   ]
  },
  {
   "cell_type": "code",
   "execution_count": 15,
   "id": "eb45a5f2-1212-44c0-9256-ae469d76671d",
   "metadata": {},
   "outputs": [],
   "source": [
    "## Collect Investments Data Using Alpaca: SPY (stocks) and AGG (bonds)"
   ]
  },
  {
   "cell_type": "code",
   "execution_count": 16,
   "id": "67e72b06-79e3-4987-934a-490e9afe1094",
   "metadata": {},
   "outputs": [],
   "source": [
    "# Import libraries and dependencies\n",
    "import os\n",
    "import pandas as pd\n",
    "import alpaca_trade_api as tradeapi"
   ]
  },
  {
   "cell_type": "code",
   "execution_count": 17,
   "id": "d8f57073-0a15-410c-a0cb-0d8eb674a997",
   "metadata": {},
   "outputs": [],
   "source": [
    "from dotenv import load_dotenv\n",
    "load_dotenv()\n",
    "\n",
    "%matplotlib inline"
   ]
  },
  {
   "cell_type": "code",
   "execution_count": 18,
   "id": "634da122-25b0-45ee-98ad-d3132f60df40",
   "metadata": {},
   "outputs": [],
   "source": [
    "# Current amount of shares\n",
    "# YOUR CODE HERE!\n",
    "my_agg = 200\n",
    "my_spy = 50"
   ]
  },
  {
   "cell_type": "code",
   "execution_count": 19,
   "id": "0fdebe6c-4c39-406f-9acc-0922145c8874",
   "metadata": {},
   "outputs": [],
   "source": [
    " # Set Alpaca API key and secret\n",
    "# YOUR CODE HERE!\n",
    "# Setup Alpaca API environment\n",
    "alpaca_api_key = os.getenv(\"ALPACA_API_KEY\")\n",
    "alpaca_secret_key = os.getenv(\"ALPACA_SECRET_KEY\")\n",
    "\n"
   ]
  },
  {
   "cell_type": "code",
   "execution_count": 20,
   "id": "821fd5cd-acc3-4f9f-bc24-ff79be5367e5",
   "metadata": {},
   "outputs": [],
   "source": [
    "# Create the Alpaca API object\n",
    "# YOUR CODE HERE!\n",
    "api = tradeapi.REST(\n",
    "    alpaca_api_key,\n",
    "    alpaca_secret_key,\n",
    "    api_version=\"v2\"\n",
    ")"
   ]
  },
  {
   "cell_type": "code",
   "execution_count": 21,
   "id": "512000f0-25c8-4d50-88b0-b46ccd7798b7",
   "metadata": {},
   "outputs": [],
   "source": [
    "# Format current date as ISO format\n",
    "today = pd.Timestamp(\"2022-02-28\", tz=\"America/New_York\").isoformat()"
   ]
  },
  {
   "cell_type": "code",
   "execution_count": 22,
   "id": "caf4c0a8-9328-49d3-9eff-fdbd8da8de4f",
   "metadata": {},
   "outputs": [],
   "source": [
    "# Set the tickers (from  starter code)\n",
    "tickers = [\"AGG\", \"SPY\"]"
   ]
  },
  {
   "cell_type": "code",
   "execution_count": 23,
   "id": "890fa337-f30e-474b-b061-eeefca77f6b0",
   "metadata": {},
   "outputs": [],
   "source": [
    "# Set timeframe to '1D' for Alpaca API (from  starter code)\n",
    "timeframe = \"1D\""
   ]
  },
  {
   "cell_type": "code",
   "execution_count": 24,
   "id": "722c5e82-cf78-4ac8-9c31-b1457f13d8f9",
   "metadata": {},
   "outputs": [],
   "source": [
    "# Get current closing prices for SPY and AGG\n",
    "# YOUR CODE HERE!\n",
    "df_ticker = api.get_barset(\n",
    "    tickers,\n",
    "    timeframe,\n",
    "    start=today,\n",
    "    end=today,\n",
    "    limit=1000,\n",
    ").df"
   ]
  },
  {
   "cell_type": "code",
   "execution_count": 25,
   "id": "238b6233-2c3e-4b15-92bd-d2e5178830d4",
   "metadata": {},
   "outputs": [
    {
     "data": {
      "text/html": [
       "<div>\n",
       "<style scoped>\n",
       "    .dataframe tbody tr th:only-of-type {\n",
       "        vertical-align: middle;\n",
       "    }\n",
       "\n",
       "    .dataframe tbody tr th {\n",
       "        vertical-align: top;\n",
       "    }\n",
       "\n",
       "    .dataframe thead tr th {\n",
       "        text-align: left;\n",
       "    }\n",
       "\n",
       "    .dataframe thead tr:last-of-type th {\n",
       "        text-align: right;\n",
       "    }\n",
       "</style>\n",
       "<table border=\"1\" class=\"dataframe\">\n",
       "  <thead>\n",
       "    <tr>\n",
       "      <th></th>\n",
       "      <th colspan=\"5\" halign=\"left\">AGG</th>\n",
       "      <th colspan=\"5\" halign=\"left\">SPY</th>\n",
       "    </tr>\n",
       "    <tr>\n",
       "      <th></th>\n",
       "      <th>open</th>\n",
       "      <th>high</th>\n",
       "      <th>low</th>\n",
       "      <th>close</th>\n",
       "      <th>volume</th>\n",
       "      <th>open</th>\n",
       "      <th>high</th>\n",
       "      <th>low</th>\n",
       "      <th>close</th>\n",
       "      <th>volume</th>\n",
       "    </tr>\n",
       "    <tr>\n",
       "      <th>time</th>\n",
       "      <th></th>\n",
       "      <th></th>\n",
       "      <th></th>\n",
       "      <th></th>\n",
       "      <th></th>\n",
       "      <th></th>\n",
       "      <th></th>\n",
       "      <th></th>\n",
       "      <th></th>\n",
       "      <th></th>\n",
       "    </tr>\n",
       "  </thead>\n",
       "  <tbody>\n",
       "    <tr>\n",
       "      <th>2022-02-28 00:00:00-05:00</th>\n",
       "      <td>110.03</td>\n",
       "      <td>110.43</td>\n",
       "      <td>110.02</td>\n",
       "      <td>110.38</td>\n",
       "      <td>11173221</td>\n",
       "      <td>432.02</td>\n",
       "      <td>438.2</td>\n",
       "      <td>430.7</td>\n",
       "      <td>436.59</td>\n",
       "      <td>121285011</td>\n",
       "    </tr>\n",
       "  </tbody>\n",
       "</table>\n",
       "</div>"
      ],
      "text/plain": [
       "                              AGG                                       SPY  \\\n",
       "                             open    high     low   close    volume    open   \n",
       "time                                                                          \n",
       "2022-02-28 00:00:00-05:00  110.03  110.43  110.02  110.38  11173221  432.02   \n",
       "\n",
       "                                                            \n",
       "                            high    low   close     volume  \n",
       "time                                                        \n",
       "2022-02-28 00:00:00-05:00  438.2  430.7  436.59  121285011  "
      ]
     },
     "execution_count": 25,
     "metadata": {},
     "output_type": "execute_result"
    }
   ],
   "source": [
    "# Preview DataFrame\n",
    "# YOUR CODE HERE! \n",
    "df_ticker.head()"
   ]
  },
  {
   "cell_type": "code",
   "execution_count": 26,
   "id": "22da3861-0680-4f84-a7bd-a16305765e76",
   "metadata": {},
   "outputs": [],
   "source": [
    "# Pick AGG and SPY close prices\n",
    "# YOUR CODE HERE!\n",
    "df_closing_prices = pd.DataFrame()"
   ]
  },
  {
   "cell_type": "code",
   "execution_count": 27,
   "id": "65b7a0e5-7799-40c0-8e97-fb6b82ea01fd",
   "metadata": {},
   "outputs": [],
   "source": [
    "for ticker in tickers:\n",
    "    df_closing_prices[ticker] = df_ticker[ticker][\"close\"]"
   ]
  },
  {
   "cell_type": "code",
   "execution_count": 28,
   "id": "166dfc13-252d-4d69-8efd-6845317da7d1",
   "metadata": {},
   "outputs": [
    {
     "data": {
      "text/html": [
       "<div>\n",
       "<style scoped>\n",
       "    .dataframe tbody tr th:only-of-type {\n",
       "        vertical-align: middle;\n",
       "    }\n",
       "\n",
       "    .dataframe tbody tr th {\n",
       "        vertical-align: top;\n",
       "    }\n",
       "\n",
       "    .dataframe thead th {\n",
       "        text-align: right;\n",
       "    }\n",
       "</style>\n",
       "<table border=\"1\" class=\"dataframe\">\n",
       "  <thead>\n",
       "    <tr style=\"text-align: right;\">\n",
       "      <th></th>\n",
       "      <th>AGG</th>\n",
       "      <th>SPY</th>\n",
       "    </tr>\n",
       "    <tr>\n",
       "      <th>time</th>\n",
       "      <th></th>\n",
       "      <th></th>\n",
       "    </tr>\n",
       "  </thead>\n",
       "  <tbody>\n",
       "    <tr>\n",
       "      <th>2022-02-28 00:00:00-05:00</th>\n",
       "      <td>110.38</td>\n",
       "      <td>436.59</td>\n",
       "    </tr>\n",
       "  </tbody>\n",
       "</table>\n",
       "</div>"
      ],
      "text/plain": [
       "                              AGG     SPY\n",
       "time                                     \n",
       "2022-02-28 00:00:00-05:00  110.38  436.59"
      ]
     },
     "execution_count": 28,
     "metadata": {},
     "output_type": "execute_result"
    }
   ],
   "source": [
    "df_closing_prices.head()"
   ]
  },
  {
   "cell_type": "code",
   "execution_count": 29,
   "id": "f648d370-1818-40e0-b5d2-7aa902282b0c",
   "metadata": {},
   "outputs": [],
   "source": [
    "df_closing_prices.index = df_closing_prices.index.date"
   ]
  },
  {
   "cell_type": "code",
   "execution_count": 30,
   "id": "bc51ef18-4c47-48bc-9f9b-f52471bcfdb9",
   "metadata": {},
   "outputs": [
    {
     "data": {
      "text/html": [
       "<div>\n",
       "<style scoped>\n",
       "    .dataframe tbody tr th:only-of-type {\n",
       "        vertical-align: middle;\n",
       "    }\n",
       "\n",
       "    .dataframe tbody tr th {\n",
       "        vertical-align: top;\n",
       "    }\n",
       "\n",
       "    .dataframe thead th {\n",
       "        text-align: right;\n",
       "    }\n",
       "</style>\n",
       "<table border=\"1\" class=\"dataframe\">\n",
       "  <thead>\n",
       "    <tr style=\"text-align: right;\">\n",
       "      <th></th>\n",
       "      <th>AGG</th>\n",
       "      <th>SPY</th>\n",
       "    </tr>\n",
       "  </thead>\n",
       "  <tbody>\n",
       "    <tr>\n",
       "      <th>2022-02-28</th>\n",
       "      <td>110.38</td>\n",
       "      <td>436.59</td>\n",
       "    </tr>\n",
       "  </tbody>\n",
       "</table>\n",
       "</div>"
      ],
      "text/plain": [
       "               AGG     SPY\n",
       "2022-02-28  110.38  436.59"
      ]
     },
     "execution_count": 30,
     "metadata": {},
     "output_type": "execute_result"
    }
   ],
   "source": [
    "df_closing_prices.head()"
   ]
  },
  {
   "cell_type": "code",
   "execution_count": 31,
   "id": "d70462c1-ea44-42fb-b449-9b6294257200",
   "metadata": {},
   "outputs": [],
   "source": [
    "agg_close_price = float(df_closing_prices[\"AGG\"])\n",
    "spy_close_price = float(df_closing_prices[\"SPY\"])"
   ]
  },
  {
   "cell_type": "code",
   "execution_count": 32,
   "id": "d899272f-5e32-43a8-97b5-14523609ac42",
   "metadata": {},
   "outputs": [
    {
     "name": "stdout",
     "output_type": "stream",
     "text": [
      "Current AGG closing price: $110.38\n",
      "Current SPY closing price: $436.59\n"
     ]
    }
   ],
   "source": [
    "# Print AGG and SPY close prices (from  starter code)\n",
    "\n",
    "print(f\"Current AGG closing price: ${agg_close_price}\")\n",
    "print(f\"Current SPY closing price: ${spy_close_price}\")\n",
    "\n",
    "\n",
    "## Output should read:\n",
    "# Current AGG closing price: $119.445\n",
    "# Current SPY closing price: $334.55"
   ]
  },
  {
   "cell_type": "code",
   "execution_count": 33,
   "id": "d7784a6e-2e8e-4739-9143-01b73acf3710",
   "metadata": {},
   "outputs": [],
   "source": [
    "# Compute the current value of shares\n",
    "my_spy_value = my_spy * spy_close_price\n",
    "my_agg_value = my_agg * agg_close_price"
   ]
  },
  {
   "cell_type": "code",
   "execution_count": 34,
   "id": "b5bc2156-ecff-4932-baa8-275c14ef2b82",
   "metadata": {},
   "outputs": [
    {
     "name": "stdout",
     "output_type": "stream",
     "text": [
      "The current value of your 50 SPY shares is $21829.50\n",
      "The current value of your 200 AGG shares is $22076.00\n"
     ]
    }
   ],
   "source": [
    "# Print current value of share\n",
    "print(f\"The current value of your {my_spy} SPY shares is ${my_spy_value:0.2f}\")\n",
    "print(f\"The current value of your {my_agg} AGG shares is ${my_agg_value:0.2f}\")\n",
    "\n",
    "#Output should be The current value of your 50 SPY shares is $16727.50\n",
    "                #The current value of your 200 AGG shares is $23889.00"
   ]
  },
  {
   "cell_type": "code",
   "execution_count": 35,
   "id": "7e3e448f-5545-43ed-813c-9b89379c11bc",
   "metadata": {},
   "outputs": [],
   "source": [
    "## Savings Health Analysis"
   ]
  },
  {
   "cell_type": "code",
   "execution_count": 36,
   "id": "12d54f3f-8725-430d-9bee-3313ccbb04bb",
   "metadata": {},
   "outputs": [],
   "source": [
    "# Set monthly household income\n",
    "monthly_income = 12000"
   ]
  },
  {
   "cell_type": "code",
   "execution_count": 37,
   "id": "51d6d0c2-6ecd-428c-8726-79931efa0b9c",
   "metadata": {},
   "outputs": [
    {
     "data": {
      "text/html": [
       "<div>\n",
       "<style scoped>\n",
       "    .dataframe tbody tr th:only-of-type {\n",
       "        vertical-align: middle;\n",
       "    }\n",
       "\n",
       "    .dataframe tbody tr th {\n",
       "        vertical-align: top;\n",
       "    }\n",
       "\n",
       "    .dataframe thead th {\n",
       "        text-align: right;\n",
       "    }\n",
       "</style>\n",
       "<table border=\"1\" class=\"dataframe\">\n",
       "  <thead>\n",
       "    <tr style=\"text-align: right;\">\n",
       "      <th></th>\n",
       "    </tr>\n",
       "  </thead>\n",
       "  <tbody>\n",
       "    <tr>\n",
       "      <th>Crypto</th>\n",
       "    </tr>\n",
       "    <tr>\n",
       "      <th>Shares</th>\n",
       "    </tr>\n",
       "  </tbody>\n",
       "</table>\n",
       "</div>"
      ],
      "text/plain": [
       "Empty DataFrame\n",
       "Columns: []\n",
       "Index: [Crypto, Shares]"
      ]
     },
     "execution_count": 37,
     "metadata": {},
     "output_type": "execute_result"
    }
   ],
   "source": [
    "# Create savings DataFrame\n",
    "df_savings = pd.DataFrame(index=['Crypto','Shares'])\n",
    "df_savings"
   ]
  },
  {
   "cell_type": "code",
   "execution_count": 38,
   "id": "a3b93d9c-e889-4731-bb9b-8ca964a5e7e2",
   "metadata": {},
   "outputs": [
    {
     "data": {
      "text/html": [
       "<div>\n",
       "<style scoped>\n",
       "    .dataframe tbody tr th:only-of-type {\n",
       "        vertical-align: middle;\n",
       "    }\n",
       "\n",
       "    .dataframe tbody tr th {\n",
       "        vertical-align: top;\n",
       "    }\n",
       "\n",
       "    .dataframe thead th {\n",
       "        text-align: right;\n",
       "    }\n",
       "</style>\n",
       "<table border=\"1\" class=\"dataframe\">\n",
       "  <thead>\n",
       "    <tr style=\"text-align: right;\">\n",
       "      <th></th>\n",
       "      <th>Amount</th>\n",
       "    </tr>\n",
       "  </thead>\n",
       "  <tbody>\n",
       "    <tr>\n",
       "      <th>Crypto</th>\n",
       "      <td>68490.264</td>\n",
       "    </tr>\n",
       "    <tr>\n",
       "      <th>Shares</th>\n",
       "      <td>43905.500</td>\n",
       "    </tr>\n",
       "  </tbody>\n",
       "</table>\n",
       "</div>"
      ],
      "text/plain": [
       "           Amount\n",
       "Crypto  68490.264\n",
       "Shares  43905.500"
      ]
     },
     "execution_count": 38,
     "metadata": {},
     "output_type": "execute_result"
    }
   ],
   "source": [
    "new_column_values = [my_btc_value+my_eth_value, my_spy_value+my_agg_value]\n",
    "\n",
    "df_savings[\"Amount\"] = new_column_values \n",
    "\n",
    "df_savings"
   ]
  },
  {
   "cell_type": "code",
   "execution_count": 39,
   "id": "8112a5d0-f635-4df1-8878-0ae75e1741a2",
   "metadata": {},
   "outputs": [
    {
     "data": {
      "text/html": [
       "<div>\n",
       "<style scoped>\n",
       "    .dataframe tbody tr th:only-of-type {\n",
       "        vertical-align: middle;\n",
       "    }\n",
       "\n",
       "    .dataframe tbody tr th {\n",
       "        vertical-align: top;\n",
       "    }\n",
       "\n",
       "    .dataframe thead th {\n",
       "        text-align: right;\n",
       "    }\n",
       "</style>\n",
       "<table border=\"1\" class=\"dataframe\">\n",
       "  <thead>\n",
       "    <tr style=\"text-align: right;\">\n",
       "      <th></th>\n",
       "      <th>Amount</th>\n",
       "    </tr>\n",
       "  </thead>\n",
       "  <tbody>\n",
       "    <tr>\n",
       "      <th>Crypto</th>\n",
       "      <td>68490.264</td>\n",
       "    </tr>\n",
       "    <tr>\n",
       "      <th>Shares</th>\n",
       "      <td>43905.500</td>\n",
       "    </tr>\n",
       "  </tbody>\n",
       "</table>\n",
       "</div>"
      ],
      "text/plain": [
       "           Amount\n",
       "Crypto  68490.264\n",
       "Shares  43905.500"
      ]
     },
     "metadata": {},
     "output_type": "display_data"
    }
   ],
   "source": [
    "# Display savings DataFrame (from  starter code)\n",
    "display(df_savings)"
   ]
  },
  {
   "cell_type": "code",
   "execution_count": 40,
   "id": "72486854-31a3-4c0d-8953-50eee54579e4",
   "metadata": {},
   "outputs": [
    {
     "data": {
      "text/plain": [
       "<AxesSubplot:ylabel='Amount'>"
      ]
     },
     "execution_count": 40,
     "metadata": {},
     "output_type": "execute_result"
    },
    {
     "data": {
      "image/png": "[encoded data removed]",
      "text/plain": [
       "<Figure size 360x360 with 1 Axes>"
      ]
     },
     "metadata": {},
     "output_type": "display_data"
    }
   ],
   "source": [
    "# Plot savings pie chart\n",
    "df_savings.plot.pie(y='Amount', figsize=(5, 5))"
   ]
  },
  {
   "cell_type": "code",
   "execution_count": 41,
   "id": "1b585631-2522-48ea-941a-3fb1e22d0a9a",
   "metadata": {},
   "outputs": [],
   "source": [
    "# Set ideal emergency fund (from  starter code)\n",
    "emergency_fund = monthly_income * 3"
   ]
  },
  {
   "cell_type": "code",
   "execution_count": 42,
   "id": "be4c67a9-8d59-43ca-a39e-50618a6ace55",
   "metadata": {},
   "outputs": [
    {
     "data": {
      "text/plain": [
       "112395.764"
      ]
     },
     "execution_count": 42,
     "metadata": {},
     "output_type": "execute_result"
    }
   ],
   "source": [
    "# Calculate total amount of savings\n",
    "total_savings = df_savings.sum().item()\n",
    "total_savings\n",
    "# not really sure about .item() to be honest, but of all the options given by the valueerror\n",
    "# (all,bool,empty, or any)....'item' was the only one that kept my values lol"
   ]
  },
  {
   "cell_type": "code",
   "execution_count": 43,
   "id": "bb714422-36ed-4044-9dfb-2323798aeb01",
   "metadata": {},
   "outputs": [
    {
     "name": "stdout",
     "output_type": "stream",
     "text": [
      "Yo, your savings be on point playa!!! You got more tendies than 3x yo monthly Benjamins!\n"
     ]
    }
   ],
   "source": [
    "# Validate saving health\n",
    "if total_savings > emergency_fund:\n",
    "    print(\"Yo, your savings be on point playa!!! You got more tendies than 3x yo monthly Benjamins!\")\n",
    "elif total_savings == emergency_fund:\n",
    "    print(\"They see you rollin, they hatin'... keep it up playa, you hit your 3x Benjamin goal on tendies!\")\n",
    "else:\n",
    "    print(f'Awww snap... you short by ${emergency_fund - total_savings}...but keep saving those tendies, you almost there!!')"
   ]
  },
  {
   "cell_type": "code",
   "execution_count": 44,
   "id": "9d68c62e-9c3a-40f0-ad5a-472476248c95",
   "metadata": {},
   "outputs": [],
   "source": [
    "# output should read \" Congratulations! You have enough money in your emergency fund.\"\n",
    "\n",
    "# ... close enough :-)"
   ]
  },
  {
   "cell_type": "code",
   "execution_count": 45,
   "id": "beabe029-4b55-46bd-aeb2-6399edcb5f66",
   "metadata": {},
   "outputs": [],
   "source": [
    "##Part 2 - Retirement Planning"
   ]
  },
  {
   "cell_type": "code",
   "execution_count": 46,
   "id": "e853d5b1-b698-4f9c-b13a-3ef60d3bb602",
   "metadata": {},
   "outputs": [],
   "source": [
    "#Monte Carlo Simulation"
   ]
  },
  {
   "cell_type": "code",
   "execution_count": 47,
   "id": "3c7fe392-67c6-48e6-b944-38dcc99b65e5",
   "metadata": {},
   "outputs": [],
   "source": [
    "# Set start and end dates of five years back from today. (from starter)\n",
    "# Sample results may vary from the solution based on the time frame chosen\n",
    "start_date = pd.Timestamp('2017-03-01', tz='America/New_York').isoformat()\n",
    "end_date = pd.Timestamp('2022-02-28', tz='America/New_York').isoformat()"
   ]
  },
  {
   "cell_type": "code",
   "execution_count": 48,
   "id": "76acd1b8-691d-4dd0-a78c-d28dbe1ba6e2",
   "metadata": {},
   "outputs": [],
   "source": [
    "# Get 5 years' worth of historical data for SPY and AGG  \n",
    "df_stock_data = api.get_barset(\n",
    "    tickers,\n",
    "    timeframe,\n",
    "    start=start_date,\n",
    "    end=end_date\n",
    ").df"
   ]
  },
  {
   "cell_type": "code",
   "execution_count": 49,
   "id": "7079e6eb-8825-43f7-bd2c-3265e689291e",
   "metadata": {},
   "outputs": [
    {
     "data": {
      "text/html": [
       "<div>\n",
       "<style scoped>\n",
       "    .dataframe tbody tr th:only-of-type {\n",
       "        vertical-align: middle;\n",
       "    }\n",
       "\n",
       "    .dataframe tbody tr th {\n",
       "        vertical-align: top;\n",
       "    }\n",
       "\n",
       "    .dataframe thead tr th {\n",
       "        text-align: left;\n",
       "    }\n",
       "\n",
       "    .dataframe thead tr:last-of-type th {\n",
       "        text-align: right;\n",
       "    }\n",
       "</style>\n",
       "<table border=\"1\" class=\"dataframe\">\n",
       "  <thead>\n",
       "    <tr>\n",
       "      <th></th>\n",
       "      <th colspan=\"5\" halign=\"left\">AGG</th>\n",
       "      <th colspan=\"5\" halign=\"left\">SPY</th>\n",
       "    </tr>\n",
       "    <tr>\n",
       "      <th></th>\n",
       "      <th>open</th>\n",
       "      <th>high</th>\n",
       "      <th>low</th>\n",
       "      <th>close</th>\n",
       "      <th>volume</th>\n",
       "      <th>open</th>\n",
       "      <th>high</th>\n",
       "      <th>low</th>\n",
       "      <th>close</th>\n",
       "      <th>volume</th>\n",
       "    </tr>\n",
       "    <tr>\n",
       "      <th>time</th>\n",
       "      <th></th>\n",
       "      <th></th>\n",
       "      <th></th>\n",
       "      <th></th>\n",
       "      <th></th>\n",
       "      <th></th>\n",
       "      <th></th>\n",
       "      <th></th>\n",
       "      <th></th>\n",
       "      <th></th>\n",
       "    </tr>\n",
       "  </thead>\n",
       "  <tbody>\n",
       "    <tr>\n",
       "      <th>2021-10-06 00:00:00-04:00</th>\n",
       "      <td>114.68</td>\n",
       "      <td>114.730</td>\n",
       "      <td>114.59</td>\n",
       "      <td>114.700</td>\n",
       "      <td>4748378</td>\n",
       "      <td>429.27</td>\n",
       "      <td>435.1199</td>\n",
       "      <td>427.54</td>\n",
       "      <td>434.92</td>\n",
       "      <td>99477866</td>\n",
       "    </tr>\n",
       "    <tr>\n",
       "      <th>2021-10-07 00:00:00-04:00</th>\n",
       "      <td>114.46</td>\n",
       "      <td>114.500</td>\n",
       "      <td>114.34</td>\n",
       "      <td>114.360</td>\n",
       "      <td>3586652</td>\n",
       "      <td>438.39</td>\n",
       "      <td>441.6800</td>\n",
       "      <td>438.20</td>\n",
       "      <td>438.64</td>\n",
       "      <td>64139858</td>\n",
       "    </tr>\n",
       "    <tr>\n",
       "      <th>2021-10-08 00:00:00-04:00</th>\n",
       "      <td>114.31</td>\n",
       "      <td>114.350</td>\n",
       "      <td>114.07</td>\n",
       "      <td>114.120</td>\n",
       "      <td>4207570</td>\n",
       "      <td>439.48</td>\n",
       "      <td>439.8900</td>\n",
       "      <td>437.19</td>\n",
       "      <td>437.82</td>\n",
       "      <td>57510090</td>\n",
       "    </tr>\n",
       "    <tr>\n",
       "      <th>2021-10-11 00:00:00-04:00</th>\n",
       "      <td>114.01</td>\n",
       "      <td>114.065</td>\n",
       "      <td>113.94</td>\n",
       "      <td>113.940</td>\n",
       "      <td>1999518</td>\n",
       "      <td>437.16</td>\n",
       "      <td>440.2600</td>\n",
       "      <td>434.62</td>\n",
       "      <td>434.67</td>\n",
       "      <td>54993389</td>\n",
       "    </tr>\n",
       "    <tr>\n",
       "      <th>2021-10-12 00:00:00-04:00</th>\n",
       "      <td>114.17</td>\n",
       "      <td>114.380</td>\n",
       "      <td>114.11</td>\n",
       "      <td>114.355</td>\n",
       "      <td>3521504</td>\n",
       "      <td>435.67</td>\n",
       "      <td>436.1000</td>\n",
       "      <td>432.78</td>\n",
       "      <td>433.63</td>\n",
       "      <td>61078594</td>\n",
       "    </tr>\n",
       "  </tbody>\n",
       "</table>\n",
       "</div>"
      ],
      "text/plain": [
       "                              AGG                                        SPY  \\\n",
       "                             open     high     low    close   volume    open   \n",
       "time                                                                           \n",
       "2021-10-06 00:00:00-04:00  114.68  114.730  114.59  114.700  4748378  429.27   \n",
       "2021-10-07 00:00:00-04:00  114.46  114.500  114.34  114.360  3586652  438.39   \n",
       "2021-10-08 00:00:00-04:00  114.31  114.350  114.07  114.120  4207570  439.48   \n",
       "2021-10-11 00:00:00-04:00  114.01  114.065  113.94  113.940  1999518  437.16   \n",
       "2021-10-12 00:00:00-04:00  114.17  114.380  114.11  114.355  3521504  435.67   \n",
       "\n",
       "                                                               \n",
       "                               high     low   close    volume  \n",
       "time                                                           \n",
       "2021-10-06 00:00:00-04:00  435.1199  427.54  434.92  99477866  \n",
       "2021-10-07 00:00:00-04:00  441.6800  438.20  438.64  64139858  \n",
       "2021-10-08 00:00:00-04:00  439.8900  437.19  437.82  57510090  \n",
       "2021-10-11 00:00:00-04:00  440.2600  434.62  434.67  54993389  \n",
       "2021-10-12 00:00:00-04:00  436.1000  432.78  433.63  61078594  "
      ]
     },
     "execution_count": 49,
     "metadata": {},
     "output_type": "execute_result"
    }
   ],
   "source": [
    "# Display sample data (from starter)\n",
    "df_stock_data.head()"
   ]
  },
  {
   "cell_type": "code",
   "execution_count": null,
   "id": "bd0919c9-e334-4661-8501-76b441f4aa42",
   "metadata": {},
   "outputs": [],
   "source": []
  },
  {
   "cell_type": "code",
   "execution_count": 50,
   "id": "359f8de6-612a-4bc7-b06f-5365cf29632d",
   "metadata": {},
   "outputs": [],
   "source": [
    " # Configuring a Monte Carlo simulation to forecast 30 years cumulative returns\n",
    "MC_thirty = MCSimulation(\n",
    "    portfolio_data = df_stock_data,\n",
    "    weights = [.40,.60],\n",
    "    num_simulation = 500,\n",
    "    num_trading_days = 252*30\n",
    ")"
   ]
  },
  {
   "cell_type": "code",
   "execution_count": 51,
   "id": "d77ab74e-33f7-400c-8580-568d6d6d3190",
   "metadata": {},
   "outputs": [
    {
     "data": {
      "text/html": [
       "<div>\n",
       "<style scoped>\n",
       "    .dataframe tbody tr th:only-of-type {\n",
       "        vertical-align: middle;\n",
       "    }\n",
       "\n",
       "    .dataframe tbody tr th {\n",
       "        vertical-align: top;\n",
       "    }\n",
       "\n",
       "    .dataframe thead tr th {\n",
       "        text-align: left;\n",
       "    }\n",
       "\n",
       "    .dataframe thead tr:last-of-type th {\n",
       "        text-align: right;\n",
       "    }\n",
       "</style>\n",
       "<table border=\"1\" class=\"dataframe\">\n",
       "  <thead>\n",
       "    <tr>\n",
       "      <th></th>\n",
       "      <th colspan=\"6\" halign=\"left\">AGG</th>\n",
       "      <th colspan=\"6\" halign=\"left\">SPY</th>\n",
       "    </tr>\n",
       "    <tr>\n",
       "      <th></th>\n",
       "      <th>open</th>\n",
       "      <th>high</th>\n",
       "      <th>low</th>\n",
       "      <th>close</th>\n",
       "      <th>volume</th>\n",
       "      <th>daily_return</th>\n",
       "      <th>open</th>\n",
       "      <th>high</th>\n",
       "      <th>low</th>\n",
       "      <th>close</th>\n",
       "      <th>volume</th>\n",
       "      <th>daily_return</th>\n",
       "    </tr>\n",
       "    <tr>\n",
       "      <th>time</th>\n",
       "      <th></th>\n",
       "      <th></th>\n",
       "      <th></th>\n",
       "      <th></th>\n",
       "      <th></th>\n",
       "      <th></th>\n",
       "      <th></th>\n",
       "      <th></th>\n",
       "      <th></th>\n",
       "      <th></th>\n",
       "      <th></th>\n",
       "      <th></th>\n",
       "    </tr>\n",
       "  </thead>\n",
       "  <tbody>\n",
       "    <tr>\n",
       "      <th>2021-10-06 00:00:00-04:00</th>\n",
       "      <td>114.68</td>\n",
       "      <td>114.730</td>\n",
       "      <td>114.59</td>\n",
       "      <td>114.700</td>\n",
       "      <td>4748378</td>\n",
       "      <td>NaN</td>\n",
       "      <td>429.27</td>\n",
       "      <td>435.1199</td>\n",
       "      <td>427.54</td>\n",
       "      <td>434.92</td>\n",
       "      <td>99477866</td>\n",
       "      <td>NaN</td>\n",
       "    </tr>\n",
       "    <tr>\n",
       "      <th>2021-10-07 00:00:00-04:00</th>\n",
       "      <td>114.46</td>\n",
       "      <td>114.500</td>\n",
       "      <td>114.34</td>\n",
       "      <td>114.360</td>\n",
       "      <td>3586652</td>\n",
       "      <td>-0.002964</td>\n",
       "      <td>438.39</td>\n",
       "      <td>441.6800</td>\n",
       "      <td>438.20</td>\n",
       "      <td>438.64</td>\n",
       "      <td>64139858</td>\n",
       "      <td>0.008553</td>\n",
       "    </tr>\n",
       "    <tr>\n",
       "      <th>2021-10-08 00:00:00-04:00</th>\n",
       "      <td>114.31</td>\n",
       "      <td>114.350</td>\n",
       "      <td>114.07</td>\n",
       "      <td>114.120</td>\n",
       "      <td>4207570</td>\n",
       "      <td>-0.002099</td>\n",
       "      <td>439.48</td>\n",
       "      <td>439.8900</td>\n",
       "      <td>437.19</td>\n",
       "      <td>437.82</td>\n",
       "      <td>57510090</td>\n",
       "      <td>-0.001869</td>\n",
       "    </tr>\n",
       "    <tr>\n",
       "      <th>2021-10-11 00:00:00-04:00</th>\n",
       "      <td>114.01</td>\n",
       "      <td>114.065</td>\n",
       "      <td>113.94</td>\n",
       "      <td>113.940</td>\n",
       "      <td>1999518</td>\n",
       "      <td>-0.001577</td>\n",
       "      <td>437.16</td>\n",
       "      <td>440.2600</td>\n",
       "      <td>434.62</td>\n",
       "      <td>434.67</td>\n",
       "      <td>54993389</td>\n",
       "      <td>-0.007195</td>\n",
       "    </tr>\n",
       "    <tr>\n",
       "      <th>2021-10-12 00:00:00-04:00</th>\n",
       "      <td>114.17</td>\n",
       "      <td>114.380</td>\n",
       "      <td>114.11</td>\n",
       "      <td>114.355</td>\n",
       "      <td>3521504</td>\n",
       "      <td>0.003642</td>\n",
       "      <td>435.67</td>\n",
       "      <td>436.1000</td>\n",
       "      <td>432.78</td>\n",
       "      <td>433.63</td>\n",
       "      <td>61078594</td>\n",
       "      <td>-0.002393</td>\n",
       "    </tr>\n",
       "  </tbody>\n",
       "</table>\n",
       "</div>"
      ],
      "text/plain": [
       "                              AGG                                     \\\n",
       "                             open     high     low    close   volume   \n",
       "time                                                                   \n",
       "2021-10-06 00:00:00-04:00  114.68  114.730  114.59  114.700  4748378   \n",
       "2021-10-07 00:00:00-04:00  114.46  114.500  114.34  114.360  3586652   \n",
       "2021-10-08 00:00:00-04:00  114.31  114.350  114.07  114.120  4207570   \n",
       "2021-10-11 00:00:00-04:00  114.01  114.065  113.94  113.940  1999518   \n",
       "2021-10-12 00:00:00-04:00  114.17  114.380  114.11  114.355  3521504   \n",
       "\n",
       "                                           SPY                            \\\n",
       "                          daily_return    open      high     low   close   \n",
       "time                                                                       \n",
       "2021-10-06 00:00:00-04:00          NaN  429.27  435.1199  427.54  434.92   \n",
       "2021-10-07 00:00:00-04:00    -0.002964  438.39  441.6800  438.20  438.64   \n",
       "2021-10-08 00:00:00-04:00    -0.002099  439.48  439.8900  437.19  437.82   \n",
       "2021-10-11 00:00:00-04:00    -0.001577  437.16  440.2600  434.62  434.67   \n",
       "2021-10-12 00:00:00-04:00     0.003642  435.67  436.1000  432.78  433.63   \n",
       "\n",
       "                                                  \n",
       "                             volume daily_return  \n",
       "time                                              \n",
       "2021-10-06 00:00:00-04:00  99477866          NaN  \n",
       "2021-10-07 00:00:00-04:00  64139858     0.008553  \n",
       "2021-10-08 00:00:00-04:00  57510090    -0.001869  \n",
       "2021-10-11 00:00:00-04:00  54993389    -0.007195  \n",
       "2021-10-12 00:00:00-04:00  61078594    -0.002393  "
      ]
     },
     "execution_count": 51,
     "metadata": {},
     "output_type": "execute_result"
    }
   ],
   "source": [
    "# Printing the simulation input data\n",
    "MC_thirty.portfolio_data.head()"
   ]
  },
  {
   "cell_type": "code",
   "execution_count": 52,
   "id": "7744b2ca-4e85-405b-b81f-9846af1260f6",
   "metadata": {},
   "outputs": [
    {
     "name": "stdout",
     "output_type": "stream",
     "text": [
      "Running Monte Carlo simulation number 0.\n",
      "Running Monte Carlo simulation number 10.\n",
      "Running Monte Carlo simulation number 20.\n",
      "Running Monte Carlo simulation number 30.\n",
      "Running Monte Carlo simulation number 40.\n",
      "Running Monte Carlo simulation number 50.\n",
      "Running Monte Carlo simulation number 60.\n",
      "Running Monte Carlo simulation number 70.\n",
      "Running Monte Carlo simulation number 80.\n",
      "Running Monte Carlo simulation number 90.\n",
      "Running Monte Carlo simulation number 100.\n"
     ]
    },
    {
     "name": "stderr",
     "output_type": "stream",
     "text": [
      "C:\\Users\\16177\\Documents\\nu-chi-fin-pt-10-2021-u-c\\MCForecastTools.py:117: PerformanceWarning: DataFrame is highly fragmented.  This is usually the result of calling `frame.insert` many times, which has poor performance.  Consider joining all columns at once using pd.concat(axis=1) instead.  To get a de-fragmented frame, use `newframe = frame.copy()`\n",
      "  portfolio_cumulative_returns[n] = (1 + sim_df.fillna(0)).cumprod()\n"
     ]
    },
    {
     "name": "stdout",
     "output_type": "stream",
     "text": [
      "Running Monte Carlo simulation number 110.\n",
      "Running Monte Carlo simulation number 120.\n",
      "Running Monte Carlo simulation number 130.\n",
      "Running Monte Carlo simulation number 140.\n",
      "Running Monte Carlo simulation number 150.\n",
      "Running Monte Carlo simulation number 160.\n",
      "Running Monte Carlo simulation number 170.\n",
      "Running Monte Carlo simulation number 180.\n",
      "Running Monte Carlo simulation number 190.\n",
      "Running Monte Carlo simulation number 200.\n",
      "Running Monte Carlo simulation number 210.\n",
      "Running Monte Carlo simulation number 220.\n",
      "Running Monte Carlo simulation number 230.\n",
      "Running Monte Carlo simulation number 240.\n",
      "Running Monte Carlo simulation number 250.\n",
      "Running Monte Carlo simulation number 260.\n",
      "Running Monte Carlo simulation number 270.\n",
      "Running Monte Carlo simulation number 280.\n",
      "Running Monte Carlo simulation number 290.\n",
      "Running Monte Carlo simulation number 300.\n",
      "Running Monte Carlo simulation number 310.\n",
      "Running Monte Carlo simulation number 320.\n",
      "Running Monte Carlo simulation number 330.\n",
      "Running Monte Carlo simulation number 340.\n",
      "Running Monte Carlo simulation number 350.\n",
      "Running Monte Carlo simulation number 360.\n",
      "Running Monte Carlo simulation number 370.\n",
      "Running Monte Carlo simulation number 380.\n",
      "Running Monte Carlo simulation number 390.\n",
      "Running Monte Carlo simulation number 400.\n",
      "Running Monte Carlo simulation number 410.\n",
      "Running Monte Carlo simulation number 420.\n",
      "Running Monte Carlo simulation number 430.\n",
      "Running Monte Carlo simulation number 440.\n",
      "Running Monte Carlo simulation number 450.\n",
      "Running Monte Carlo simulation number 460.\n",
      "Running Monte Carlo simulation number 470.\n",
      "Running Monte Carlo simulation number 480.\n",
      "Running Monte Carlo simulation number 490.\n"
     ]
    },
    {
     "data": {
      "text/html": [
       "<div>\n",
       "<style scoped>\n",
       "    .dataframe tbody tr th:only-of-type {\n",
       "        vertical-align: middle;\n",
       "    }\n",
       "\n",
       "    .dataframe tbody tr th {\n",
       "        vertical-align: top;\n",
       "    }\n",
       "\n",
       "    .dataframe thead th {\n",
       "        text-align: right;\n",
       "    }\n",
       "</style>\n",
       "<table border=\"1\" class=\"dataframe\">\n",
       "  <thead>\n",
       "    <tr style=\"text-align: right;\">\n",
       "      <th></th>\n",
       "      <th>0</th>\n",
       "      <th>1</th>\n",
       "      <th>2</th>\n",
       "      <th>3</th>\n",
       "      <th>4</th>\n",
       "      <th>5</th>\n",
       "      <th>6</th>\n",
       "      <th>7</th>\n",
       "      <th>8</th>\n",
       "      <th>9</th>\n",
       "      <th>...</th>\n",
       "      <th>490</th>\n",
       "      <th>491</th>\n",
       "      <th>492</th>\n",
       "      <th>493</th>\n",
       "      <th>494</th>\n",
       "      <th>495</th>\n",
       "      <th>496</th>\n",
       "      <th>497</th>\n",
       "      <th>498</th>\n",
       "      <th>499</th>\n",
       "    </tr>\n",
       "  </thead>\n",
       "  <tbody>\n",
       "    <tr>\n",
       "      <th>0</th>\n",
       "      <td>1.000000</td>\n",
       "      <td>1.000000</td>\n",
       "      <td>1.000000</td>\n",
       "      <td>1.000000</td>\n",
       "      <td>1.000000</td>\n",
       "      <td>1.000000</td>\n",
       "      <td>1.000000</td>\n",
       "      <td>1.000000</td>\n",
       "      <td>1.000000</td>\n",
       "      <td>1.000000</td>\n",
       "      <td>...</td>\n",
       "      <td>1.000000</td>\n",
       "      <td>1.000000</td>\n",
       "      <td>1.000000</td>\n",
       "      <td>1.000000</td>\n",
       "      <td>1.000000</td>\n",
       "      <td>1.000000</td>\n",
       "      <td>1.000000</td>\n",
       "      <td>1.000000</td>\n",
       "      <td>1.000000</td>\n",
       "      <td>1.000000</td>\n",
       "    </tr>\n",
       "    <tr>\n",
       "      <th>1</th>\n",
       "      <td>1.002662</td>\n",
       "      <td>0.992709</td>\n",
       "      <td>1.006405</td>\n",
       "      <td>0.986546</td>\n",
       "      <td>1.006318</td>\n",
       "      <td>1.000565</td>\n",
       "      <td>1.006178</td>\n",
       "      <td>1.002430</td>\n",
       "      <td>1.004793</td>\n",
       "      <td>0.990119</td>\n",
       "      <td>...</td>\n",
       "      <td>0.999771</td>\n",
       "      <td>0.996147</td>\n",
       "      <td>0.999667</td>\n",
       "      <td>1.003675</td>\n",
       "      <td>0.997241</td>\n",
       "      <td>1.007989</td>\n",
       "      <td>1.002644</td>\n",
       "      <td>1.004029</td>\n",
       "      <td>0.992754</td>\n",
       "      <td>1.005072</td>\n",
       "    </tr>\n",
       "    <tr>\n",
       "      <th>2</th>\n",
       "      <td>0.997423</td>\n",
       "      <td>1.002786</td>\n",
       "      <td>1.009605</td>\n",
       "      <td>0.986242</td>\n",
       "      <td>1.017826</td>\n",
       "      <td>0.993573</td>\n",
       "      <td>1.010071</td>\n",
       "      <td>1.004386</td>\n",
       "      <td>0.992467</td>\n",
       "      <td>0.988313</td>\n",
       "      <td>...</td>\n",
       "      <td>1.007835</td>\n",
       "      <td>0.993696</td>\n",
       "      <td>1.001219</td>\n",
       "      <td>0.991325</td>\n",
       "      <td>0.994878</td>\n",
       "      <td>1.022221</td>\n",
       "      <td>1.004214</td>\n",
       "      <td>1.006032</td>\n",
       "      <td>0.986002</td>\n",
       "      <td>1.002988</td>\n",
       "    </tr>\n",
       "    <tr>\n",
       "      <th>3</th>\n",
       "      <td>1.003944</td>\n",
       "      <td>1.002145</td>\n",
       "      <td>0.997366</td>\n",
       "      <td>0.996224</td>\n",
       "      <td>1.020324</td>\n",
       "      <td>1.000713</td>\n",
       "      <td>0.998620</td>\n",
       "      <td>1.007178</td>\n",
       "      <td>0.992525</td>\n",
       "      <td>0.993899</td>\n",
       "      <td>...</td>\n",
       "      <td>1.003571</td>\n",
       "      <td>0.995762</td>\n",
       "      <td>0.999632</td>\n",
       "      <td>0.985417</td>\n",
       "      <td>1.001491</td>\n",
       "      <td>1.016323</td>\n",
       "      <td>1.011430</td>\n",
       "      <td>1.002899</td>\n",
       "      <td>0.977139</td>\n",
       "      <td>0.992027</td>\n",
       "    </tr>\n",
       "    <tr>\n",
       "      <th>4</th>\n",
       "      <td>0.999165</td>\n",
       "      <td>0.990677</td>\n",
       "      <td>1.001071</td>\n",
       "      <td>0.992316</td>\n",
       "      <td>1.016967</td>\n",
       "      <td>0.995576</td>\n",
       "      <td>0.999579</td>\n",
       "      <td>1.007039</td>\n",
       "      <td>1.002688</td>\n",
       "      <td>0.991170</td>\n",
       "      <td>...</td>\n",
       "      <td>0.995319</td>\n",
       "      <td>0.986240</td>\n",
       "      <td>1.000045</td>\n",
       "      <td>0.978033</td>\n",
       "      <td>0.988165</td>\n",
       "      <td>1.011315</td>\n",
       "      <td>1.025212</td>\n",
       "      <td>1.002594</td>\n",
       "      <td>0.974009</td>\n",
       "      <td>0.989227</td>\n",
       "    </tr>\n",
       "    <tr>\n",
       "      <th>...</th>\n",
       "      <td>...</td>\n",
       "      <td>...</td>\n",
       "      <td>...</td>\n",
       "      <td>...</td>\n",
       "      <td>...</td>\n",
       "      <td>...</td>\n",
       "      <td>...</td>\n",
       "      <td>...</td>\n",
       "      <td>...</td>\n",
       "      <td>...</td>\n",
       "      <td>...</td>\n",
       "      <td>...</td>\n",
       "      <td>...</td>\n",
       "      <td>...</td>\n",
       "      <td>...</td>\n",
       "      <td>...</td>\n",
       "      <td>...</td>\n",
       "      <td>...</td>\n",
       "      <td>...</td>\n",
       "      <td>...</td>\n",
       "      <td>...</td>\n",
       "    </tr>\n",
       "    <tr>\n",
       "      <th>7556</th>\n",
       "      <td>0.246975</td>\n",
       "      <td>0.547721</td>\n",
       "      <td>0.471564</td>\n",
       "      <td>1.026293</td>\n",
       "      <td>0.268559</td>\n",
       "      <td>0.385609</td>\n",
       "      <td>1.040781</td>\n",
       "      <td>0.250050</td>\n",
       "      <td>0.219716</td>\n",
       "      <td>0.679400</td>\n",
       "      <td>...</td>\n",
       "      <td>0.293858</td>\n",
       "      <td>0.183351</td>\n",
       "      <td>0.326480</td>\n",
       "      <td>0.535938</td>\n",
       "      <td>0.118727</td>\n",
       "      <td>0.671068</td>\n",
       "      <td>0.306778</td>\n",
       "      <td>0.100760</td>\n",
       "      <td>0.364283</td>\n",
       "      <td>0.273758</td>\n",
       "    </tr>\n",
       "    <tr>\n",
       "      <th>7557</th>\n",
       "      <td>0.247539</td>\n",
       "      <td>0.552138</td>\n",
       "      <td>0.464653</td>\n",
       "      <td>1.023185</td>\n",
       "      <td>0.271267</td>\n",
       "      <td>0.388438</td>\n",
       "      <td>1.038193</td>\n",
       "      <td>0.250060</td>\n",
       "      <td>0.217607</td>\n",
       "      <td>0.676926</td>\n",
       "      <td>...</td>\n",
       "      <td>0.294439</td>\n",
       "      <td>0.183309</td>\n",
       "      <td>0.322757</td>\n",
       "      <td>0.536293</td>\n",
       "      <td>0.116936</td>\n",
       "      <td>0.671450</td>\n",
       "      <td>0.306546</td>\n",
       "      <td>0.100549</td>\n",
       "      <td>0.364741</td>\n",
       "      <td>0.273640</td>\n",
       "    </tr>\n",
       "    <tr>\n",
       "      <th>7558</th>\n",
       "      <td>0.247105</td>\n",
       "      <td>0.555830</td>\n",
       "      <td>0.461114</td>\n",
       "      <td>1.024508</td>\n",
       "      <td>0.271406</td>\n",
       "      <td>0.393289</td>\n",
       "      <td>1.036435</td>\n",
       "      <td>0.251418</td>\n",
       "      <td>0.216811</td>\n",
       "      <td>0.679770</td>\n",
       "      <td>...</td>\n",
       "      <td>0.295084</td>\n",
       "      <td>0.182867</td>\n",
       "      <td>0.320271</td>\n",
       "      <td>0.535105</td>\n",
       "      <td>0.117700</td>\n",
       "      <td>0.668871</td>\n",
       "      <td>0.310253</td>\n",
       "      <td>0.099863</td>\n",
       "      <td>0.364071</td>\n",
       "      <td>0.274924</td>\n",
       "    </tr>\n",
       "    <tr>\n",
       "      <th>7559</th>\n",
       "      <td>0.247083</td>\n",
       "      <td>0.559740</td>\n",
       "      <td>0.463428</td>\n",
       "      <td>1.029720</td>\n",
       "      <td>0.273334</td>\n",
       "      <td>0.395385</td>\n",
       "      <td>1.054028</td>\n",
       "      <td>0.251015</td>\n",
       "      <td>0.215140</td>\n",
       "      <td>0.673570</td>\n",
       "      <td>...</td>\n",
       "      <td>0.297325</td>\n",
       "      <td>0.181717</td>\n",
       "      <td>0.318145</td>\n",
       "      <td>0.535939</td>\n",
       "      <td>0.117993</td>\n",
       "      <td>0.671765</td>\n",
       "      <td>0.310644</td>\n",
       "      <td>0.100715</td>\n",
       "      <td>0.365549</td>\n",
       "      <td>0.276560</td>\n",
       "    </tr>\n",
       "    <tr>\n",
       "      <th>7560</th>\n",
       "      <td>0.244761</td>\n",
       "      <td>0.554819</td>\n",
       "      <td>0.465538</td>\n",
       "      <td>1.022488</td>\n",
       "      <td>0.273898</td>\n",
       "      <td>0.396642</td>\n",
       "      <td>1.057408</td>\n",
       "      <td>0.254243</td>\n",
       "      <td>0.215648</td>\n",
       "      <td>0.677579</td>\n",
       "      <td>...</td>\n",
       "      <td>0.296149</td>\n",
       "      <td>0.183123</td>\n",
       "      <td>0.319988</td>\n",
       "      <td>0.537400</td>\n",
       "      <td>0.118033</td>\n",
       "      <td>0.668251</td>\n",
       "      <td>0.310070</td>\n",
       "      <td>0.101832</td>\n",
       "      <td>0.364980</td>\n",
       "      <td>0.275522</td>\n",
       "    </tr>\n",
       "  </tbody>\n",
       "</table>\n",
       "<p>7561 rows × 500 columns</p>\n",
       "</div>"
      ],
      "text/plain": [
       "           0         1         2         3         4         5         6    \\\n",
       "0     1.000000  1.000000  1.000000  1.000000  1.000000  1.000000  1.000000   \n",
       "1     1.002662  0.992709  1.006405  0.986546  1.006318  1.000565  1.006178   \n",
       "2     0.997423  1.002786  1.009605  0.986242  1.017826  0.993573  1.010071   \n",
       "3     1.003944  1.002145  0.997366  0.996224  1.020324  1.000713  0.998620   \n",
       "4     0.999165  0.990677  1.001071  0.992316  1.016967  0.995576  0.999579   \n",
       "...        ...       ...       ...       ...       ...       ...       ...   \n",
       "7556  0.246975  0.547721  0.471564  1.026293  0.268559  0.385609  1.040781   \n",
       "7557  0.247539  0.552138  0.464653  1.023185  0.271267  0.388438  1.038193   \n",
       "7558  0.247105  0.555830  0.461114  1.024508  0.271406  0.393289  1.036435   \n",
       "7559  0.247083  0.559740  0.463428  1.029720  0.273334  0.395385  1.054028   \n",
       "7560  0.244761  0.554819  0.465538  1.022488  0.273898  0.396642  1.057408   \n",
       "\n",
       "           7         8         9    ...       490       491       492  \\\n",
       "0     1.000000  1.000000  1.000000  ...  1.000000  1.000000  1.000000   \n",
       "1     1.002430  1.004793  0.990119  ...  0.999771  0.996147  0.999667   \n",
       "2     1.004386  0.992467  0.988313  ...  1.007835  0.993696  1.001219   \n",
       "3     1.007178  0.992525  0.993899  ...  1.003571  0.995762  0.999632   \n",
       "4     1.007039  1.002688  0.991170  ...  0.995319  0.986240  1.000045   \n",
       "...        ...       ...       ...  ...       ...       ...       ...   \n",
       "7556  0.250050  0.219716  0.679400  ...  0.293858  0.183351  0.326480   \n",
       "7557  0.250060  0.217607  0.676926  ...  0.294439  0.183309  0.322757   \n",
       "7558  0.251418  0.216811  0.679770  ...  0.295084  0.182867  0.320271   \n",
       "7559  0.251015  0.215140  0.673570  ...  0.297325  0.181717  0.318145   \n",
       "7560  0.254243  0.215648  0.677579  ...  0.296149  0.183123  0.319988   \n",
       "\n",
       "           493       494       495       496       497       498       499  \n",
       "0     1.000000  1.000000  1.000000  1.000000  1.000000  1.000000  1.000000  \n",
       "1     1.003675  0.997241  1.007989  1.002644  1.004029  0.992754  1.005072  \n",
       "2     0.991325  0.994878  1.022221  1.004214  1.006032  0.986002  1.002988  \n",
       "3     0.985417  1.001491  1.016323  1.011430  1.002899  0.977139  0.992027  \n",
       "4     0.978033  0.988165  1.011315  1.025212  1.002594  0.974009  0.989227  \n",
       "...        ...       ...       ...       ...       ...       ...       ...  \n",
       "7556  0.535938  0.118727  0.671068  0.306778  0.100760  0.364283  0.273758  \n",
       "7557  0.536293  0.116936  0.671450  0.306546  0.100549  0.364741  0.273640  \n",
       "7558  0.535105  0.117700  0.668871  0.310253  0.099863  0.364071  0.274924  \n",
       "7559  0.535939  0.117993  0.671765  0.310644  0.100715  0.365549  0.276560  \n",
       "7560  0.537400  0.118033  0.668251  0.310070  0.101832  0.364980  0.275522  \n",
       "\n",
       "[7561 rows x 500 columns]"
      ]
     },
     "execution_count": 52,
     "metadata": {},
     "output_type": "execute_result"
    }
   ],
   "source": [
    " # Running a Monte Carlo simulation to forecast 30 years cumulative returns\n",
    "MC_thirty.calc_cumulative_return()"
   ]
  },
  {
   "cell_type": "code",
   "execution_count": 53,
   "id": "b67bbe25-6ac2-47b8-a7e7-74b49a0d9001",
   "metadata": {},
   "outputs": [
    {
     "data": {
      "image/png": "[encoded data removed]",
      "text/plain": [
       "<Figure size 432x288 with 1 Axes>"
      ]
     },
     "metadata": {
      "needs_background": "light"
     },
     "output_type": "display_data"
    }
   ],
   "source": [
    " # Plot simulation outcomes\n",
    "line_plot = MC_thirty.plot_simulation()"
   ]
  },
  {
   "cell_type": "code",
   "execution_count": 54,
   "id": "0c29407f-2285-45af-b535-26df125e4f2d",
   "metadata": {},
   "outputs": [
    {
     "data": {
      "image/png": "[encoded data removed]",
      "text/plain": [
       "<Figure size 432x288 with 1 Axes>"
      ]
     },
     "metadata": {
      "needs_background": "light"
     },
     "output_type": "display_data"
    }
   ],
   "source": [
    "# Plot probability distribution and confidence intervals\n",
    "dist_plot = MC_thirty.plot_distribution()"
   ]
  },
  {
   "cell_type": "code",
   "execution_count": 55,
   "id": "d31c6e08-5bd7-42c2-94ce-ac7d42695620",
   "metadata": {},
   "outputs": [],
   "source": [
    "## Retirement Analysis"
   ]
  },
  {
   "cell_type": "code",
   "execution_count": 56,
   "id": "56f3568c-3798-4163-9867-7c3abe0b6895",
   "metadata": {},
   "outputs": [],
   "source": [
    "# Fetch summary statistics from the Monte Carlo simulation results\n",
    "tbl = MC_thirty.summarize_cumulative_return()"
   ]
  },
  {
   "cell_type": "code",
   "execution_count": 57,
   "id": "cb6a1e26-e685-47f8-b73e-57bc508ed237",
   "metadata": {},
   "outputs": [
    {
     "data": {
      "text/plain": [
       "count           500.000000\n",
       "mean              0.488357\n",
       "std               0.351859\n",
       "min               0.084417\n",
       "25%               0.280096\n",
       "50%               0.400928\n",
       "75%               0.603292\n",
       "max               3.731732\n",
       "95% CI Lower      0.143562\n",
       "95% CI Upper      1.274037\n",
       "Name: 7560, dtype: float64"
      ]
     },
     "execution_count": 57,
     "metadata": {},
     "output_type": "execute_result"
    }
   ],
   "source": [
    "# Print summary statistics\n",
    "tbl"
   ]
  },
  {
   "cell_type": "code",
   "execution_count": 58,
   "id": "8cf48377-d2cf-4cf3-8bce-2d34995c1e28",
   "metadata": {},
   "outputs": [],
   "source": [
    "## Calculate the expected portfolio return at the 95% lower and upper confidence intervals \n",
    "# based on a $20,000 initial investment."
   ]
  },
  {
   "cell_type": "code",
   "execution_count": 59,
   "id": "e47bda6f-c532-416e-9f8a-b5e9ddfb71a4",
   "metadata": {},
   "outputs": [],
   "source": [
    "# Set initial investment\n",
    "initial_investment = 20000"
   ]
  },
  {
   "cell_type": "code",
   "execution_count": 60,
   "id": "19f7d14d-a206-4930-a5b5-d4ff14b2b82c",
   "metadata": {},
   "outputs": [],
   "source": [
    "# Use the lower and upper `95%` confidence intervals to calculate the range of the possible outcomes of our $20,000\n",
    "ci_lower = round(tbl[8]*initial_investment,2)\n",
    "ci_upper = round(tbl[9]*initial_investment,2)"
   ]
  },
  {
   "cell_type": "code",
   "execution_count": 61,
   "id": "2b8c071f-0526-42ab-acff-0bb4346b0621",
   "metadata": {},
   "outputs": [
    {
     "name": "stdout",
     "output_type": "stream",
     "text": [
      "There is a 95% chance that an initial investment of $20000 in the portfolio over the next 30 years will end within in the range of $2871.24 and $25480.74\n"
     ]
    }
   ],
   "source": [
    "# Print results (from starter)\n",
    "print(f\"There is a 95% chance that an initial investment of ${initial_investment} in the portfolio\"\n",
    "      f\" over the next 30 years will end within in the range of\"\n",
    "      f\" ${ci_lower} and ${ci_upper}\")"
   ]
  },
  {
   "cell_type": "code",
   "execution_count": 62,
   "id": "9f722ada-0884-4c6d-a710-ebecbd817093",
   "metadata": {},
   "outputs": [],
   "source": [
    "#output should be like: There is a 95% chance that an initial investment of $20000 in the portfolio \n",
    "# over the next 30 years will end within in the range of $45939.5 and $536211.17  (NOT EVEN CLOSE)"
   ]
  },
  {
   "cell_type": "code",
   "execution_count": 63,
   "id": "4c77e6f5-5271-40de-a3b5-9cee53d800ef",
   "metadata": {},
   "outputs": [],
   "source": [
    "## Calculate the expected portfolio return at the 95% lower and upper confidence intervals based on a 50% increase in the initial investment."
   ]
  },
  {
   "cell_type": "code",
   "execution_count": 64,
   "id": "85dceeb1-3bfe-4878-933e-0013828a1df8",
   "metadata": {},
   "outputs": [],
   "source": [
    "# Set initial investment\n",
    "initial_investment = 20000 * 1.5"
   ]
  },
  {
   "cell_type": "code",
   "execution_count": 65,
   "id": "398cdc15-896b-4a01-b71e-f15c8397f4af",
   "metadata": {},
   "outputs": [],
   "source": [
    "# Use the lower and upper `95%` confidence intervals to calculate the range of the possible outcomes of our $30,000\n",
    "ci_lower = round(tbl[8]*initial_investment,2)\n",
    "ci_upper = round(tbl[9]*initial_investment,2)"
   ]
  },
  {
   "cell_type": "code",
   "execution_count": 66,
   "id": "51265b0d-2146-4f5b-a7c8-751e4dabc98b",
   "metadata": {},
   "outputs": [
    {
     "name": "stdout",
     "output_type": "stream",
     "text": [
      "There is a 95% chance that an initial investment of $30000.0 in the portfolio over the next 30 years will end within in the range of $4306.86 and $38221.1\n"
     ]
    }
   ],
   "source": [
    "# Print results\n",
    "print(f\"There is a 95% chance that an initial investment of ${initial_investment} in the portfolio\"\n",
    "      f\" over the next 30 years will end within in the range of\"\n",
    "      f\" ${ci_lower} and ${ci_upper}\")"
   ]
  },
  {
   "cell_type": "code",
   "execution_count": null,
   "id": "aa35c597-8e58-4607-84df-ed823aba7fb8",
   "metadata": {},
   "outputs": [],
   "source": []
  },
  {
   "cell_type": "code",
   "execution_count": 67,
   "id": "cb7ef8af-58d6-4901-8e01-04cef4e9b632",
   "metadata": {},
   "outputs": [],
   "source": [
    "### Optional Challenge below see starter for starter...\n",
    "\n",
    "# I'M GOOD, THANKS THOUGH :-)"
   ]
  },
  {
   "cell_type": "code",
   "execution_count": null,
   "id": "7bbee956-4196-4693-8515-c441fc29d8ec",
   "metadata": {},
   "outputs": [],
   "source": []
  },
  {
   "cell_type": "code",
   "execution_count": null,
   "id": "b8727c24-2d3f-433d-b74a-d8de980d089e",
   "metadata": {},
   "outputs": [],
   "source": []
  },
  {
   "cell_type": "code",
   "execution_count": null,
   "id": "55c474f6-9292-4ef8-b84d-b8d0e7efe20d",
   "metadata": {},
   "outputs": [],
   "source": []
  },
  {
   "cell_type": "code",
   "execution_count": null,
   "id": "ee79d38b-7add-4162-90fb-40319591c91d",
   "metadata": {},
   "outputs": [],
   "source": []
  },
  {
   "cell_type": "code",
   "execution_count": null,
   "id": "7cb2a0bc-5d45-4c4c-a654-bdfece5abbca",
   "metadata": {},
   "outputs": [],
   "source": []
  },
  {
   "cell_type": "code",
   "execution_count": null,
   "id": "59fc63c9-a32e-467d-af4b-f0215997cbcc",
   "metadata": {},
   "outputs": [],
   "source": []
  }
 ],
 "metadata": {
  "kernelspec": {
   "display_name": "Python 3 (ipykernel)",
   "language": "python",
   "name": "python3"
  },
  "language_info": {
   "codemirror_mode": {
    "name": "ipython",
    "version": 3
   },
   "file_extension": ".py",
   "mimetype": "text/x-python",
   "name": "python",
   "nbconvert_exporter": "python",
   "pygments_lexer": "ipython3",
   "version": "3.7.11"
  }
 },
 "nbformat": 4,
 "nbformat_minor": 5
}
