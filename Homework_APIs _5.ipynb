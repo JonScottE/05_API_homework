{
 "cells": [
  {
   "cell_type": "code",
   "execution_count": 20,
   "id": "a003b86c-cb4f-411f-872f-e0d2ac399cf3",
   "metadata": {},
   "outputs": [],
   "source": [
    "##API's Homework\n"
   ]
  },
  {
   "cell_type": "code",
   "execution_count": 21,
   "id": "3919e1ca-9ed8-457b-9bce-5b9142d6e759",
   "metadata": {},
   "outputs": [],
   "source": [
    "# Initial imports\n",
    "\n",
    "import os\n",
    "import requests\n",
    "import pandas as pd\n",
    "from dotenv import load_dotenv\n",
    "import alpaca_trade_api as tradeapi\n",
    "from MCForecastTools import MCSimulation\n",
    "\n",
    "%matplotlib inline"
   ]
  },
  {
   "cell_type": "code",
   "execution_count": null,
   "id": "8d0595c8-952b-4fcf-9779-ff3bc703da4b",
   "metadata": {},
   "outputs": [],
   "source": []
  },
  {
   "cell_type": "code",
   "execution_count": 22,
   "id": "ad01438f-d67d-4fe0-8590-dea797cb15a3",
   "metadata": {},
   "outputs": [
    {
     "data": {
      "text/plain": [
       "True"
      ]
     },
     "execution_count": 22,
     "metadata": {},
     "output_type": "execute_result"
    }
   ],
   "source": [
    " # Load .env enviroment variables (output should read true)\n",
    "load_dotenv()"
   ]
  },
  {
   "cell_type": "code",
   "execution_count": null,
   "id": "bcbab204-3412-40ae-8368-ddaea23bd4f3",
   "metadata": {},
   "outputs": [],
   "source": []
  },
  {
   "cell_type": "code",
   "execution_count": 23,
   "id": "c0c53356-56c1-4d21-82ca-3dc046d6c39c",
   "metadata": {},
   "outputs": [],
   "source": [
    "## Part 1 - Personal Finance Planner"
   ]
  },
  {
   "cell_type": "code",
   "execution_count": 24,
   "id": "15ee121b-ad88-4b56-a9b7-24eb90e01dd1",
   "metadata": {},
   "outputs": [],
   "source": [
    "##  Collect Crypto Prices Using the requests Library"
   ]
  },
  {
   "cell_type": "code",
   "execution_count": 25,
   "id": "859bcbe2-8014-4151-bc6b-dc0d3a9229ba",
   "metadata": {},
   "outputs": [],
   "source": [
    " # Set current amount of crypto assets\n",
    "\n",
    "my_btc = 1.2\n",
    "my_eth = 5.3"
   ]
  },
  {
   "cell_type": "code",
   "execution_count": 26,
   "id": "f3c2679f-f3d8-49f4-a669-0c70c410acba",
   "metadata": {},
   "outputs": [],
   "source": [
    "# Crypto API URLs (from initial starter code)\n",
    "btc_url = \"https://api.alternative.me/v1/ticker/Bitcoin/\"\n",
    "eth_url = \"https://api.alternative.me/v1/ticker/Ethereum/\""
   ]
  },
  {
   "cell_type": "code",
   "execution_count": 27,
   "id": "2edc7754-3a9d-44dd-9f3e-7e68668d4abb",
   "metadata": {},
   "outputs": [],
   "source": [
    "btc_url = btc_url + \"?format-json\"\n",
    "eth_url = eth_url + \"?format-json\""
   ]
  },
  {
   "cell_type": "code",
   "execution_count": 28,
   "id": "5acc798f-1524-4a7a-924c-8b3e943ae1b4",
   "metadata": {},
   "outputs": [
    {
     "data": {
      "text/plain": [
       "'56310.0000000000000000'"
      ]
     },
     "execution_count": 28,
     "metadata": {},
     "output_type": "execute_result"
    }
   ],
   "source": [
    "# Fetch current BTC price\n",
    "requests.get(btc_url).json()[0]['price_usd']"
   ]
  },
  {
   "cell_type": "code",
   "execution_count": null,
   "id": "ef051f7c-51a8-423a-824e-c0962d26ec17",
   "metadata": {},
   "outputs": [],
   "source": []
  },
  {
   "cell_type": "code",
   "execution_count": 29,
   "id": "cc167cc5-7d0e-4c20-bcec-0f41e06cb3b7",
   "metadata": {},
   "outputs": [
    {
     "data": {
      "text/plain": [
       "'4509.0000000000000000'"
      ]
     },
     "execution_count": 29,
     "metadata": {},
     "output_type": "execute_result"
    }
   ],
   "source": [
    "# Fetch current ETH price\n",
    "requests.get(eth_url).json()[0]['price_usd']"
   ]
  },
  {
   "cell_type": "code",
   "execution_count": 30,
   "id": "983d368e-5a4a-4ed2-847e-554821146b84",
   "metadata": {},
   "outputs": [],
   "source": [
    "# store responses in variables\n",
    "btc_live_data = requests.get(btc_url)\n",
    "eth_live_data = requests.get(eth_url)"
   ]
  },
  {
   "cell_type": "code",
   "execution_count": 31,
   "id": "a3338a8a-d022-40c9-9a3f-9d830c323226",
   "metadata": {},
   "outputs": [],
   "source": [
    "# Compute current value of my crpto\n",
    "\n",
    "\n"
   ]
  },
  {
   "cell_type": "code",
   "execution_count": 32,
   "id": "a2af4896-d346-46e1-9e78-afe20c65ccac",
   "metadata": {},
   "outputs": [
    {
     "ename": "TypeError",
     "evalue": "unsupported operand type(s) for *: 'float' and 'Response'",
     "output_type": "error",
     "traceback": [
      "\u001b[1;31m---------------------------------------------------------------------------\u001b[0m",
      "\u001b[1;31mTypeError\u001b[0m                                 Traceback (most recent call last)",
      "\u001b[1;32m~\\AppData\\Local\\Temp/ipykernel_29680/4222571125.py\u001b[0m in \u001b[0;36m<module>\u001b[1;34m\u001b[0m\n\u001b[1;32m----> 1\u001b[1;33m \u001b[0mmy_btc_value\u001b[0m \u001b[1;33m=\u001b[0m \u001b[0mmy_btc\u001b[0m \u001b[1;33m*\u001b[0m \u001b[0mbtc_live_data\u001b[0m\u001b[1;33m\u001b[0m\u001b[1;33m\u001b[0m\u001b[0m\n\u001b[0m",
      "\u001b[1;31mTypeError\u001b[0m: unsupported operand type(s) for *: 'float' and 'Response'"
     ]
    }
   ],
   "source": [
    "my_btc_value = my_btc * btc_live_data"
   ]
  },
  {
   "cell_type": "code",
   "execution_count": 33,
   "id": "7cf19ee4-d45e-4389-9a1d-99eea0376c2a",
   "metadata": {},
   "outputs": [
    {
     "ename": "TypeError",
     "evalue": "unsupported operand type(s) for *: 'float' and 'Response'",
     "output_type": "error",
     "traceback": [
      "\u001b[1;31m---------------------------------------------------------------------------\u001b[0m",
      "\u001b[1;31mTypeError\u001b[0m                                 Traceback (most recent call last)",
      "\u001b[1;32m~\\AppData\\Local\\Temp/ipykernel_29680/1876570678.py\u001b[0m in \u001b[0;36m<module>\u001b[1;34m\u001b[0m\n\u001b[1;32m----> 1\u001b[1;33m \u001b[0mmy_eth_value\u001b[0m \u001b[1;33m=\u001b[0m \u001b[0mmy_eth\u001b[0m \u001b[1;33m*\u001b[0m \u001b[0meth_live_data\u001b[0m\u001b[1;33m\u001b[0m\u001b[1;33m\u001b[0m\u001b[0m\n\u001b[0m",
      "\u001b[1;31mTypeError\u001b[0m: unsupported operand type(s) for *: 'float' and 'Response'"
     ]
    }
   ],
   "source": [
    "my_eth_value = my_eth * eth_live_data"
   ]
  },
  {
   "cell_type": "code",
   "execution_count": null,
   "id": "81bc9376-b0f9-4998-b062-5369be4215c6",
   "metadata": {},
   "outputs": [],
   "source": []
  },
  {
   "cell_type": "code",
   "execution_count": 34,
   "id": "e1794d66-43d2-4e05-99fc-cde7d80afec7",
   "metadata": {},
   "outputs": [
    {
     "ename": "NameError",
     "evalue": "name 'my_btc_value' is not defined",
     "output_type": "error",
     "traceback": [
      "\u001b[1;31m---------------------------------------------------------------------------\u001b[0m",
      "\u001b[1;31mNameError\u001b[0m                                 Traceback (most recent call last)",
      "\u001b[1;32m~\\AppData\\Local\\Temp/ipykernel_29680/12158526.py\u001b[0m in \u001b[0;36m<module>\u001b[1;34m\u001b[0m\n\u001b[0;32m      1\u001b[0m \u001b[1;31m# Print current crypto wallet balance\u001b[0m\u001b[1;33m\u001b[0m\u001b[1;33m\u001b[0m\u001b[1;33m\u001b[0m\u001b[0m\n\u001b[1;32m----> 2\u001b[1;33m \u001b[0mprint\u001b[0m\u001b[1;33m(\u001b[0m\u001b[1;34mf\"The current value of your {my_btc} BTC is ${my_btc_value:0.2f}\"\u001b[0m\u001b[1;33m)\u001b[0m\u001b[1;33m\u001b[0m\u001b[1;33m\u001b[0m\u001b[0m\n\u001b[0m\u001b[0;32m      3\u001b[0m \u001b[0mprint\u001b[0m\u001b[1;33m(\u001b[0m\u001b[1;34mf\"The current value of your {my_eth} ETH is ${my_eth_value:0.2f}\"\u001b[0m\u001b[1;33m)\u001b[0m\u001b[1;33m\u001b[0m\u001b[1;33m\u001b[0m\u001b[0m\n\u001b[0;32m      4\u001b[0m \u001b[1;33m\u001b[0m\u001b[0m\n\u001b[0;32m      5\u001b[0m \u001b[1;31m# (output should read: The current value of your 1.2 BTC is $14309.16)\u001b[0m\u001b[1;33m\u001b[0m\u001b[1;33m\u001b[0m\u001b[1;33m\u001b[0m\u001b[0m\n",
      "\u001b[1;31mNameError\u001b[0m: name 'my_btc_value' is not defined"
     ]
    }
   ],
   "source": [
    "# Print current crypto wallet balance\n",
    "print(f\"The current value of your {my_btc} BTC is ${my_btc_value:0.2f}\")\n",
    "print(f\"The current value of your {my_eth} ETH is ${my_eth_value:0.2f}\")\n",
    "\n",
    "# (output should read: The current value of your 1.2 BTC is $14309.16)\n",
    "# (The current value of your 5.3 ETH is $2096.47)"
   ]
  },
  {
   "cell_type": "code",
   "execution_count": 36,
   "id": "fb445ac8-c4f6-4476-8adc-f2e1e5932170",
   "metadata": {},
   "outputs": [],
   "source": [
    "# Damnit... breaks computer"
   ]
  },
  {
   "cell_type": "code",
   "execution_count": null,
   "id": "07d29f9d-6ccd-48d7-b0bb-7c7d89ff72b2",
   "metadata": {},
   "outputs": [],
   "source": []
  },
  {
   "cell_type": "code",
   "execution_count": null,
   "id": "e389b61a-c04a-480d-b415-cc95a0275488",
   "metadata": {},
   "outputs": [],
   "source": []
  },
  {
   "cell_type": "code",
   "execution_count": null,
   "id": "eb45a5f2-1212-44c0-9256-ae469d76671d",
   "metadata": {},
   "outputs": [],
   "source": [
    "## Collect Investments Data Using Alpaca: SPY (stocks) and AGG (bonds)"
   ]
  },
  {
   "cell_type": "code",
   "execution_count": 37,
   "id": "67e72b06-79e3-4987-934a-490e9afe1094",
   "metadata": {},
   "outputs": [],
   "source": [
    "# Import libraries and dependencies\n",
    "import os\n",
    "import pandas as pd\n",
    "import alpaca_trade_api as tradeapi"
   ]
  },
  {
   "cell_type": "code",
   "execution_count": 38,
   "id": "d8f57073-0a15-410c-a0cb-0d8eb674a997",
   "metadata": {},
   "outputs": [],
   "source": [
    "from dotenv import load_dotenv\n",
    "load_dotenv()\n",
    "\n",
    "%matplotlib inline"
   ]
  },
  {
   "cell_type": "code",
   "execution_count": null,
   "id": "18f7272c-68ea-4150-914e-025865090c35",
   "metadata": {},
   "outputs": [],
   "source": []
  },
  {
   "cell_type": "code",
   "execution_count": 39,
   "id": "634da122-25b0-45ee-98ad-d3132f60df40",
   "metadata": {},
   "outputs": [],
   "source": [
    "# Current amount of shares\n",
    "# YOUR CODE HERE!\n",
    "my_agg = 200\n",
    "my_spy = 50"
   ]
  },
  {
   "cell_type": "code",
   "execution_count": 41,
   "id": "0fdebe6c-4c39-406f-9acc-0922145c8874",
   "metadata": {},
   "outputs": [],
   "source": [
    " # Set Alpaca API key and secret\n",
    "# YOUR CODE HERE!\n",
    "# Setup Alpaca API environment\n",
    "alpaca_api_key = os.getenv(\"ALPACA_API_KEY\")\n",
    "alpaca_secret_key = os.getenv(\"ALPACA_SECRET_KEY\")\n",
    "\n"
   ]
  },
  {
   "cell_type": "code",
   "execution_count": 42,
   "id": "821fd5cd-acc3-4f9f-bc24-ff79be5367e5",
   "metadata": {},
   "outputs": [],
   "source": [
    "# Create the Alpaca API object\n",
    "# YOUR CODE HERE!\n",
    "api = tradeapi.REST(\n",
    "    alpaca_api_key,\n",
    "    alpaca_secret_key,\n",
    "    api_version=\"v2\"\n",
    ")"
   ]
  },
  {
   "cell_type": "code",
   "execution_count": 43,
   "id": "512000f0-25c8-4d50-88b0-b46ccd7798b7",
   "metadata": {},
   "outputs": [],
   "source": [
    "# Format current date as ISO format\n",
    "# YOUR CODE HERE!\n",
    "start_date = pd.Timestamp(\"2010-12-03\", tz=\"America/New_York\").isoformat()\n",
    "end_date = pd.Timestamp(\"2021-12-02\", tz=\"America/New_York\").isoformat()"
   ]
  },
  {
   "cell_type": "code",
   "execution_count": 44,
   "id": "caf4c0a8-9328-49d3-9eff-fdbd8da8de4f",
   "metadata": {},
   "outputs": [],
   "source": [
    "# Set the tickers (from  starter code)\n",
    "tickers = [\"AGG\", \"SPY\"]"
   ]
  },
  {
   "cell_type": "code",
   "execution_count": 45,
   "id": "890fa337-f30e-474b-b061-eeefca77f6b0",
   "metadata": {},
   "outputs": [],
   "source": [
    "# Set timeframe to '1D' for Alpaca API (from  starter code)\n",
    "timeframe = \"1D\""
   ]
  },
  {
   "cell_type": "code",
   "execution_count": 46,
   "id": "722c5e82-cf78-4ac8-9c31-b1457f13d8f9",
   "metadata": {},
   "outputs": [],
   "source": [
    "# Get current closing prices for SPY and AGG\n",
    "# YOUR CODE HERE!\n",
    "df_ticker = api.get_barset(\n",
    "    tickers,\n",
    "    timeframe,\n",
    "    start=start_date,\n",
    "    end=end_date,\n",
    "    limit=1000,\n",
    ").df"
   ]
  },
  {
   "cell_type": "code",
   "execution_count": 47,
   "id": "238b6233-2c3e-4b15-92bd-d2e5178830d4",
   "metadata": {},
   "outputs": [
    {
     "data": {
      "text/html": [
       "<div>\n",
       "<style scoped>\n",
       "    .dataframe tbody tr th:only-of-type {\n",
       "        vertical-align: middle;\n",
       "    }\n",
       "\n",
       "    .dataframe tbody tr th {\n",
       "        vertical-align: top;\n",
       "    }\n",
       "\n",
       "    .dataframe thead tr th {\n",
       "        text-align: left;\n",
       "    }\n",
       "\n",
       "    .dataframe thead tr:last-of-type th {\n",
       "        text-align: right;\n",
       "    }\n",
       "</style>\n",
       "<table border=\"1\" class=\"dataframe\">\n",
       "  <thead>\n",
       "    <tr>\n",
       "      <th></th>\n",
       "      <th colspan=\"5\" halign=\"left\">AGG</th>\n",
       "      <th colspan=\"5\" halign=\"left\">SPY</th>\n",
       "    </tr>\n",
       "    <tr>\n",
       "      <th></th>\n",
       "      <th>open</th>\n",
       "      <th>high</th>\n",
       "      <th>low</th>\n",
       "      <th>close</th>\n",
       "      <th>volume</th>\n",
       "      <th>open</th>\n",
       "      <th>high</th>\n",
       "      <th>low</th>\n",
       "      <th>close</th>\n",
       "      <th>volume</th>\n",
       "    </tr>\n",
       "    <tr>\n",
       "      <th>time</th>\n",
       "      <th></th>\n",
       "      <th></th>\n",
       "      <th></th>\n",
       "      <th></th>\n",
       "      <th></th>\n",
       "      <th></th>\n",
       "      <th></th>\n",
       "      <th></th>\n",
       "      <th></th>\n",
       "      <th></th>\n",
       "    </tr>\n",
       "  </thead>\n",
       "  <tbody>\n",
       "    <tr>\n",
       "      <th>2017-12-13 00:00:00-05:00</th>\n",
       "      <td>109.23</td>\n",
       "      <td>109.5500</td>\n",
       "      <td>109.135</td>\n",
       "      <td>109.410</td>\n",
       "      <td>2638160</td>\n",
       "      <td>267.06</td>\n",
       "      <td>267.56</td>\n",
       "      <td>266.65</td>\n",
       "      <td>266.73</td>\n",
       "      <td>48961663</td>\n",
       "    </tr>\n",
       "    <tr>\n",
       "      <th>2017-12-14 00:00:00-05:00</th>\n",
       "      <td>109.31</td>\n",
       "      <td>109.5100</td>\n",
       "      <td>109.230</td>\n",
       "      <td>109.450</td>\n",
       "      <td>3698172</td>\n",
       "      <td>267.12</td>\n",
       "      <td>267.22</td>\n",
       "      <td>265.60</td>\n",
       "      <td>265.67</td>\n",
       "      <td>57343318</td>\n",
       "    </tr>\n",
       "    <tr>\n",
       "      <th>2017-12-15 00:00:00-05:00</th>\n",
       "      <td>109.42</td>\n",
       "      <td>109.5500</td>\n",
       "      <td>109.315</td>\n",
       "      <td>109.470</td>\n",
       "      <td>2034072</td>\n",
       "      <td>265.45</td>\n",
       "      <td>267.04</td>\n",
       "      <td>265.39</td>\n",
       "      <td>266.53</td>\n",
       "      <td>59269913</td>\n",
       "    </tr>\n",
       "    <tr>\n",
       "      <th>2017-12-18 00:00:00-05:00</th>\n",
       "      <td>109.47</td>\n",
       "      <td>109.4700</td>\n",
       "      <td>109.250</td>\n",
       "      <td>109.310</td>\n",
       "      <td>3090761</td>\n",
       "      <td>268.08</td>\n",
       "      <td>268.60</td>\n",
       "      <td>267.98</td>\n",
       "      <td>268.18</td>\n",
       "      <td>45691370</td>\n",
       "    </tr>\n",
       "    <tr>\n",
       "      <th>2017-12-19 00:00:00-05:00</th>\n",
       "      <td>109.14</td>\n",
       "      <td>109.1600</td>\n",
       "      <td>108.890</td>\n",
       "      <td>109.000</td>\n",
       "      <td>2583809</td>\n",
       "      <td>268.48</td>\n",
       "      <td>268.53</td>\n",
       "      <td>267.09</td>\n",
       "      <td>267.22</td>\n",
       "      <td>46990895</td>\n",
       "    </tr>\n",
       "    <tr>\n",
       "      <th>...</th>\n",
       "      <td>...</td>\n",
       "      <td>...</td>\n",
       "      <td>...</td>\n",
       "      <td>...</td>\n",
       "      <td>...</td>\n",
       "      <td>...</td>\n",
       "      <td>...</td>\n",
       "      <td>...</td>\n",
       "      <td>...</td>\n",
       "      <td>...</td>\n",
       "    </tr>\n",
       "    <tr>\n",
       "      <th>2021-11-26 00:00:00-05:00</th>\n",
       "      <td>114.28</td>\n",
       "      <td>114.5769</td>\n",
       "      <td>114.200</td>\n",
       "      <td>114.540</td>\n",
       "      <td>2886169</td>\n",
       "      <td>462.38</td>\n",
       "      <td>463.90</td>\n",
       "      <td>457.77</td>\n",
       "      <td>459.03</td>\n",
       "      <td>93783057</td>\n",
       "    </tr>\n",
       "    <tr>\n",
       "      <th>2021-11-29 00:00:00-05:00</th>\n",
       "      <td>114.15</td>\n",
       "      <td>114.6000</td>\n",
       "      <td>114.130</td>\n",
       "      <td>114.550</td>\n",
       "      <td>7604952</td>\n",
       "      <td>464.07</td>\n",
       "      <td>466.56</td>\n",
       "      <td>461.73</td>\n",
       "      <td>464.63</td>\n",
       "      <td>68239627</td>\n",
       "    </tr>\n",
       "    <tr>\n",
       "      <th>2021-11-30 00:00:00-05:00</th>\n",
       "      <td>114.87</td>\n",
       "      <td>115.1074</td>\n",
       "      <td>114.500</td>\n",
       "      <td>114.765</td>\n",
       "      <td>10624796</td>\n",
       "      <td>462.00</td>\n",
       "      <td>464.03</td>\n",
       "      <td>455.30</td>\n",
       "      <td>455.78</td>\n",
       "      <td>126435765</td>\n",
       "    </tr>\n",
       "    <tr>\n",
       "      <th>2021-12-01 00:00:00-05:00</th>\n",
       "      <td>114.27</td>\n",
       "      <td>114.6400</td>\n",
       "      <td>114.210</td>\n",
       "      <td>114.610</td>\n",
       "      <td>11306707</td>\n",
       "      <td>461.64</td>\n",
       "      <td>464.67</td>\n",
       "      <td>450.29</td>\n",
       "      <td>450.53</td>\n",
       "      <td>112177764</td>\n",
       "    </tr>\n",
       "    <tr>\n",
       "      <th>2021-12-02 00:00:00-05:00</th>\n",
       "      <td>114.67</td>\n",
       "      <td>114.7900</td>\n",
       "      <td>114.470</td>\n",
       "      <td>114.470</td>\n",
       "      <td>3956339</td>\n",
       "      <td>450.72</td>\n",
       "      <td>456.85</td>\n",
       "      <td>450.31</td>\n",
       "      <td>456.07</td>\n",
       "      <td>46785998</td>\n",
       "    </tr>\n",
       "  </tbody>\n",
       "</table>\n",
       "<p>1000 rows × 10 columns</p>\n",
       "</div>"
      ],
      "text/plain": [
       "                              AGG                                        \\\n",
       "                             open      high      low    close    volume   \n",
       "time                                                                      \n",
       "2017-12-13 00:00:00-05:00  109.23  109.5500  109.135  109.410   2638160   \n",
       "2017-12-14 00:00:00-05:00  109.31  109.5100  109.230  109.450   3698172   \n",
       "2017-12-15 00:00:00-05:00  109.42  109.5500  109.315  109.470   2034072   \n",
       "2017-12-18 00:00:00-05:00  109.47  109.4700  109.250  109.310   3090761   \n",
       "2017-12-19 00:00:00-05:00  109.14  109.1600  108.890  109.000   2583809   \n",
       "...                           ...       ...      ...      ...       ...   \n",
       "2021-11-26 00:00:00-05:00  114.28  114.5769  114.200  114.540   2886169   \n",
       "2021-11-29 00:00:00-05:00  114.15  114.6000  114.130  114.550   7604952   \n",
       "2021-11-30 00:00:00-05:00  114.87  115.1074  114.500  114.765  10624796   \n",
       "2021-12-01 00:00:00-05:00  114.27  114.6400  114.210  114.610  11306707   \n",
       "2021-12-02 00:00:00-05:00  114.67  114.7900  114.470  114.470   3956339   \n",
       "\n",
       "                              SPY                                     \n",
       "                             open    high     low   close     volume  \n",
       "time                                                                  \n",
       "2017-12-13 00:00:00-05:00  267.06  267.56  266.65  266.73   48961663  \n",
       "2017-12-14 00:00:00-05:00  267.12  267.22  265.60  265.67   57343318  \n",
       "2017-12-15 00:00:00-05:00  265.45  267.04  265.39  266.53   59269913  \n",
       "2017-12-18 00:00:00-05:00  268.08  268.60  267.98  268.18   45691370  \n",
       "2017-12-19 00:00:00-05:00  268.48  268.53  267.09  267.22   46990895  \n",
       "...                           ...     ...     ...     ...        ...  \n",
       "2021-11-26 00:00:00-05:00  462.38  463.90  457.77  459.03   93783057  \n",
       "2021-11-29 00:00:00-05:00  464.07  466.56  461.73  464.63   68239627  \n",
       "2021-11-30 00:00:00-05:00  462.00  464.03  455.30  455.78  126435765  \n",
       "2021-12-01 00:00:00-05:00  461.64  464.67  450.29  450.53  112177764  \n",
       "2021-12-02 00:00:00-05:00  450.72  456.85  450.31  456.07   46785998  \n",
       "\n",
       "[1000 rows x 10 columns]"
      ]
     },
     "execution_count": 47,
     "metadata": {},
     "output_type": "execute_result"
    }
   ],
   "source": [
    "# Preview DataFrame\n",
    "# YOUR CODE HERE!\n",
    "df_ticker"
   ]
  },
  {
   "cell_type": "code",
   "execution_count": 48,
   "id": "22da3861-0680-4f84-a7bd-a16305765e76",
   "metadata": {},
   "outputs": [],
   "source": [
    "# Pick AGG and SPY close prices\n",
    "# YOUR CODE HERE!\n",
    "df_closing_prices = pd.DataFrame()"
   ]
  },
  {
   "cell_type": "code",
   "execution_count": 49,
   "id": "65b7a0e5-7799-40c0-8e97-fb6b82ea01fd",
   "metadata": {},
   "outputs": [],
   "source": [
    "for ticker in tickers:\n",
    "    df_closing_prices[ticker] = df_ticker[ticker][\"close\"]"
   ]
  },
  {
   "cell_type": "code",
   "execution_count": 50,
   "id": "166dfc13-252d-4d69-8efd-6845317da7d1",
   "metadata": {},
   "outputs": [
    {
     "data": {
      "text/html": [
       "<div>\n",
       "<style scoped>\n",
       "    .dataframe tbody tr th:only-of-type {\n",
       "        vertical-align: middle;\n",
       "    }\n",
       "\n",
       "    .dataframe tbody tr th {\n",
       "        vertical-align: top;\n",
       "    }\n",
       "\n",
       "    .dataframe thead th {\n",
       "        text-align: right;\n",
       "    }\n",
       "</style>\n",
       "<table border=\"1\" class=\"dataframe\">\n",
       "  <thead>\n",
       "    <tr style=\"text-align: right;\">\n",
       "      <th></th>\n",
       "      <th>AGG</th>\n",
       "      <th>SPY</th>\n",
       "    </tr>\n",
       "    <tr>\n",
       "      <th>time</th>\n",
       "      <th></th>\n",
       "      <th></th>\n",
       "    </tr>\n",
       "  </thead>\n",
       "  <tbody>\n",
       "    <tr>\n",
       "      <th>2017-12-13 00:00:00-05:00</th>\n",
       "      <td>109.41</td>\n",
       "      <td>266.73</td>\n",
       "    </tr>\n",
       "    <tr>\n",
       "      <th>2017-12-14 00:00:00-05:00</th>\n",
       "      <td>109.45</td>\n",
       "      <td>265.67</td>\n",
       "    </tr>\n",
       "    <tr>\n",
       "      <th>2017-12-15 00:00:00-05:00</th>\n",
       "      <td>109.47</td>\n",
       "      <td>266.53</td>\n",
       "    </tr>\n",
       "    <tr>\n",
       "      <th>2017-12-18 00:00:00-05:00</th>\n",
       "      <td>109.31</td>\n",
       "      <td>268.18</td>\n",
       "    </tr>\n",
       "    <tr>\n",
       "      <th>2017-12-19 00:00:00-05:00</th>\n",
       "      <td>109.00</td>\n",
       "      <td>267.22</td>\n",
       "    </tr>\n",
       "  </tbody>\n",
       "</table>\n",
       "</div>"
      ],
      "text/plain": [
       "                              AGG     SPY\n",
       "time                                     \n",
       "2017-12-13 00:00:00-05:00  109.41  266.73\n",
       "2017-12-14 00:00:00-05:00  109.45  265.67\n",
       "2017-12-15 00:00:00-05:00  109.47  266.53\n",
       "2017-12-18 00:00:00-05:00  109.31  268.18\n",
       "2017-12-19 00:00:00-05:00  109.00  267.22"
      ]
     },
     "execution_count": 50,
     "metadata": {},
     "output_type": "execute_result"
    }
   ],
   "source": [
    "df_closing_prices.head()"
   ]
  },
  {
   "cell_type": "code",
   "execution_count": 52,
   "id": "f648d370-1818-40e0-b5d2-7aa902282b0c",
   "metadata": {},
   "outputs": [],
   "source": [
    "df_closing_prices.index = df_closing_prices.index.date"
   ]
  },
  {
   "cell_type": "code",
   "execution_count": 53,
   "id": "bc51ef18-4c47-48bc-9f9b-f52471bcfdb9",
   "metadata": {},
   "outputs": [
    {
     "data": {
      "text/html": [
       "<div>\n",
       "<style scoped>\n",
       "    .dataframe tbody tr th:only-of-type {\n",
       "        vertical-align: middle;\n",
       "    }\n",
       "\n",
       "    .dataframe tbody tr th {\n",
       "        vertical-align: top;\n",
       "    }\n",
       "\n",
       "    .dataframe thead th {\n",
       "        text-align: right;\n",
       "    }\n",
       "</style>\n",
       "<table border=\"1\" class=\"dataframe\">\n",
       "  <thead>\n",
       "    <tr style=\"text-align: right;\">\n",
       "      <th></th>\n",
       "      <th>AGG</th>\n",
       "      <th>SPY</th>\n",
       "    </tr>\n",
       "  </thead>\n",
       "  <tbody>\n",
       "    <tr>\n",
       "      <th>2017-12-13</th>\n",
       "      <td>109.41</td>\n",
       "      <td>266.73</td>\n",
       "    </tr>\n",
       "    <tr>\n",
       "      <th>2017-12-14</th>\n",
       "      <td>109.45</td>\n",
       "      <td>265.67</td>\n",
       "    </tr>\n",
       "    <tr>\n",
       "      <th>2017-12-15</th>\n",
       "      <td>109.47</td>\n",
       "      <td>266.53</td>\n",
       "    </tr>\n",
       "    <tr>\n",
       "      <th>2017-12-18</th>\n",
       "      <td>109.31</td>\n",
       "      <td>268.18</td>\n",
       "    </tr>\n",
       "    <tr>\n",
       "      <th>2017-12-19</th>\n",
       "      <td>109.00</td>\n",
       "      <td>267.22</td>\n",
       "    </tr>\n",
       "  </tbody>\n",
       "</table>\n",
       "</div>"
      ],
      "text/plain": [
       "               AGG     SPY\n",
       "2017-12-13  109.41  266.73\n",
       "2017-12-14  109.45  265.67\n",
       "2017-12-15  109.47  266.53\n",
       "2017-12-18  109.31  268.18\n",
       "2017-12-19  109.00  267.22"
      ]
     },
     "execution_count": 53,
     "metadata": {},
     "output_type": "execute_result"
    }
   ],
   "source": [
    "df_closing_prices.head()"
   ]
  },
  {
   "cell_type": "code",
   "execution_count": null,
   "id": "d70462c1-ea44-42fb-b449-9b6294257200",
   "metadata": {},
   "outputs": [],
   "source": [
    "agg_close_price = \n",
    "spy_close_price = "
   ]
  },
  {
   "cell_type": "code",
   "execution_count": 51,
   "id": "d899272f-5e32-43a8-97b5-14523609ac42",
   "metadata": {},
   "outputs": [
    {
     "ename": "NameError",
     "evalue": "name 'agg_close_price' is not defined",
     "output_type": "error",
     "traceback": [
      "\u001b[1;31m---------------------------------------------------------------------------\u001b[0m",
      "\u001b[1;31mNameError\u001b[0m                                 Traceback (most recent call last)",
      "\u001b[1;32m~\\AppData\\Local\\Temp/ipykernel_29680/725621985.py\u001b[0m in \u001b[0;36m<module>\u001b[1;34m\u001b[0m\n\u001b[0;32m      1\u001b[0m \u001b[1;31m# Print AGG and SPY close prices (from  starter code)\u001b[0m\u001b[1;33m\u001b[0m\u001b[1;33m\u001b[0m\u001b[1;33m\u001b[0m\u001b[0m\n\u001b[1;32m----> 2\u001b[1;33m \u001b[0mprint\u001b[0m\u001b[1;33m(\u001b[0m\u001b[1;34mf\"Current AGG closing price: ${agg_close_price}\"\u001b[0m\u001b[1;33m)\u001b[0m\u001b[1;33m\u001b[0m\u001b[1;33m\u001b[0m\u001b[0m\n\u001b[0m\u001b[0;32m      3\u001b[0m \u001b[0mprint\u001b[0m\u001b[1;33m(\u001b[0m\u001b[1;34mf\"Current SPY closing price: ${spy_close_price}\"\u001b[0m\u001b[1;33m)\u001b[0m\u001b[1;33m\u001b[0m\u001b[1;33m\u001b[0m\u001b[0m\n\u001b[0;32m      4\u001b[0m \u001b[1;33m\u001b[0m\u001b[0m\n\u001b[0;32m      5\u001b[0m \u001b[1;33m\u001b[0m\u001b[0m\n",
      "\u001b[1;31mNameError\u001b[0m: name 'agg_close_price' is not defined"
     ]
    }
   ],
   "source": [
    "# Print AGG and SPY close prices (from  starter code)\n",
    "\n",
    "print(f\"Current AGG closing price: ${agg_close_price}\")\n",
    "print(f\"Current SPY closing price: ${spy_close_price}\")\n",
    "\n",
    "\n",
    "## Output should read:\n",
    "# Current AGG closing price: $119.445\n",
    "# Current SPY closing price: $334.55"
   ]
  },
  {
   "cell_type": "code",
   "execution_count": null,
   "id": "d7784a6e-2e8e-4739-9143-01b73acf3710",
   "metadata": {},
   "outputs": [],
   "source": [
    "# Compute the current value of shares\n",
    "# YOUR CODE HERE!"
   ]
  },
  {
   "cell_type": "code",
   "execution_count": null,
   "id": "b5bc2156-ecff-4932-baa8-275c14ef2b82",
   "metadata": {},
   "outputs": [],
   "source": [
    "# Print current value of share\n",
    "print(f\"The current value of your {my_spy} SPY shares is ${my_spy_value:0.2f}\")\n",
    "print(f\"The current value of your {my_agg} AGG shares is ${my_agg_value:0.2f}\")\n",
    "\n",
    "#Output should be The current value of your 50 SPY shares is $16727.50\n",
    "                #The current value of your 200 AGG shares is $23889.00"
   ]
  },
  {
   "cell_type": "code",
   "execution_count": null,
   "id": "943a8939-0088-4e1b-939b-3b225beefdb3",
   "metadata": {},
   "outputs": [],
   "source": []
  },
  {
   "cell_type": "code",
   "execution_count": null,
   "id": "7e3e448f-5545-43ed-813c-9b89379c11bc",
   "metadata": {},
   "outputs": [],
   "source": [
    "## Savings Health Analysis"
   ]
  },
  {
   "cell_type": "code",
   "execution_count": null,
   "id": "12d54f3f-8725-430d-9bee-3313ccbb04bb",
   "metadata": {},
   "outputs": [],
   "source": [
    "# Set monthly household income\n",
    "# YOUR CODE HERE!"
   ]
  },
  {
   "cell_type": "code",
   "execution_count": null,
   "id": "51d6d0c2-6ecd-428c-8726-79931efa0b9c",
   "metadata": {},
   "outputs": [],
   "source": [
    "# Create savings DataFrame\n",
    "# YOUR CODE HERE!"
   ]
  },
  {
   "cell_type": "code",
   "execution_count": null,
   "id": "8112a5d0-f635-4df1-8878-0ae75e1741a2",
   "metadata": {},
   "outputs": [],
   "source": [
    "# Display savings DataFrame (from  starter code)\n",
    "display(df_savings)"
   ]
  },
  {
   "cell_type": "code",
   "execution_count": null,
   "id": "72486854-31a3-4c0d-8953-50eee54579e4",
   "metadata": {},
   "outputs": [],
   "source": [
    "# Plot savings pie chart\n",
    "# YOUR CODE HERE!"
   ]
  },
  {
   "cell_type": "code",
   "execution_count": null,
   "id": "cec6f512-66fd-48fb-b8c7-a5b9f4f756f6",
   "metadata": {},
   "outputs": [],
   "source": [
    "## out code from starter\n",
    " <matplotlib.axes._subplots.AxesSubplot at 0x7f9fdc2a1710>"
   ]
  },
  {
   "cell_type": "code",
   "execution_count": null,
   "id": "1b585631-2522-48ea-941a-3fb1e22d0a9a",
   "metadata": {},
   "outputs": [],
   "source": [
    "# Set ideal emergency fund (from  starter code)\n",
    "emergency_fund = monthly_income * 3"
   ]
  },
  {
   "cell_type": "code",
   "execution_count": null,
   "id": "be4c67a9-8d59-43ca-a39e-50618a6ace55",
   "metadata": {},
   "outputs": [],
   "source": [
    "# Calculate total amount of savings\n",
    "# YOUR CODE HERE!"
   ]
  },
  {
   "cell_type": "code",
   "execution_count": null,
   "id": "bb714422-36ed-4044-9dfb-2323798aeb01",
   "metadata": {},
   "outputs": [],
   "source": [
    "# Validate saving health\n",
    "# YOUR CODE HERE!"
   ]
  },
  {
   "cell_type": "code",
   "execution_count": null,
   "id": "9d68c62e-9c3a-40f0-ad5a-472476248c95",
   "metadata": {},
   "outputs": [],
   "source": [
    "# output should read \" Congratulations! You have enough money in your emergency fund.\""
   ]
  },
  {
   "cell_type": "code",
   "execution_count": null,
   "id": "fe88a593-c102-4e0e-ac11-dd47c1408e50",
   "metadata": {},
   "outputs": [],
   "source": []
  },
  {
   "cell_type": "code",
   "execution_count": null,
   "id": "beabe029-4b55-46bd-aeb2-6399edcb5f66",
   "metadata": {},
   "outputs": [],
   "source": [
    "##Part 2 - Retirement Planning"
   ]
  },
  {
   "cell_type": "code",
   "execution_count": null,
   "id": "e853d5b1-b698-4f9c-b13a-3ef60d3bb602",
   "metadata": {},
   "outputs": [],
   "source": [
    "#Monte Carlo Simulation"
   ]
  },
  {
   "cell_type": "code",
   "execution_count": null,
   "id": "3c7fe392-67c6-48e6-b944-38dcc99b65e5",
   "metadata": {},
   "outputs": [],
   "source": [
    "# Set start and end dates of five years back from today. (from starter)\n",
    "# Sample results may vary from the solution based on the time frame chosen\n",
    "start_date = pd.Timestamp('2015-08-07', tz='America/New_York').isoformat()\n",
    "end_date = pd.Timestamp('2020-08-07', tz='America/New_York').isoformat()"
   ]
  },
  {
   "cell_type": "code",
   "execution_count": null,
   "id": "76acd1b8-691d-4dd0-a78c-d28dbe1ba6e2",
   "metadata": {},
   "outputs": [],
   "source": [
    "# Get 5 years' worth of historical data for SPY and AGG  (might need to make a forloop for 5 years of data)\n",
    "# YOUR CODE HERE!"
   ]
  },
  {
   "cell_type": "code",
   "execution_count": null,
   "id": "7079e6eb-8825-43f7-bd2c-3265e689291e",
   "metadata": {},
   "outputs": [],
   "source": [
    "# Display sample data (from starter)\n",
    "df_stock_data.head()"
   ]
  },
  {
   "cell_type": "code",
   "execution_count": null,
   "id": "bd0919c9-e334-4661-8501-76b441f4aa42",
   "metadata": {},
   "outputs": [],
   "source": []
  },
  {
   "cell_type": "code",
   "execution_count": null,
   "id": "359f8de6-612a-4bc7-b06f-5365cf29632d",
   "metadata": {},
   "outputs": [],
   "source": [
    " # Configuring a Monte Carlo simulation to forecast 30 years cumulative returns\n",
    "# YOUR CODE HERE!"
   ]
  },
  {
   "cell_type": "code",
   "execution_count": null,
   "id": "d77ab74e-33f7-400c-8580-568d6d6d3190",
   "metadata": {},
   "outputs": [],
   "source": [
    "# Printing the simulation input data\n",
    "# YOUR CODE HERE!"
   ]
  },
  {
   "cell_type": "code",
   "execution_count": null,
   "id": "7744b2ca-4e85-405b-b81f-9846af1260f6",
   "metadata": {},
   "outputs": [],
   "source": [
    " # Running a Monte Carlo simulation to forecast 30 years cumulative returns\n",
    "# YOUR CODE HERE!"
   ]
  },
  {
   "cell_type": "code",
   "execution_count": null,
   "id": "b67bbe25-6ac2-47b8-a7e7-74b49a0d9001",
   "metadata": {},
   "outputs": [],
   "source": [
    " # Plot simulation outcomes\n",
    "# YOUR CODE HERE!"
   ]
  },
  {
   "cell_type": "code",
   "execution_count": null,
   "id": "0c29407f-2285-45af-b535-26df125e4f2d",
   "metadata": {},
   "outputs": [],
   "source": [
    "# Plot probability distribution and confidence intervals\n",
    "# YOUR CODE HERE!"
   ]
  },
  {
   "cell_type": "code",
   "execution_count": null,
   "id": "327f2698-db1d-4ddc-829f-37863810501c",
   "metadata": {},
   "outputs": [],
   "source": []
  },
  {
   "cell_type": "code",
   "execution_count": null,
   "id": "d31c6e08-5bd7-42c2-94ce-ac7d42695620",
   "metadata": {},
   "outputs": [],
   "source": [
    "## Retirement Analysis"
   ]
  },
  {
   "cell_type": "code",
   "execution_count": null,
   "id": "56f3568c-3798-4163-9867-7c3abe0b6895",
   "metadata": {},
   "outputs": [],
   "source": [
    "# Fetch summary statistics from the Monte Carlo simulation results\n",
    "# YOUR CODE HERE!"
   ]
  },
  {
   "cell_type": "code",
   "execution_count": null,
   "id": "cb6a1e26-e685-47f8-b73e-57bc508ed237",
   "metadata": {},
   "outputs": [],
   "source": [
    "# Print summary statistics\n",
    "# YOUR CODE HERE!"
   ]
  },
  {
   "cell_type": "code",
   "execution_count": null,
   "id": "8cf48377-d2cf-4cf3-8bce-2d34995c1e28",
   "metadata": {},
   "outputs": [],
   "source": [
    "## Calculate the expected portfolio return at the 95% lower and upper confidence intervals based on a $20,000 initial investment."
   ]
  },
  {
   "cell_type": "code",
   "execution_count": null,
   "id": "e47bda6f-c532-416e-9f8a-b5e9ddfb71a4",
   "metadata": {},
   "outputs": [],
   "source": [
    "# Set initial investment\n",
    "initial_investment = 20000"
   ]
  },
  {
   "cell_type": "code",
   "execution_count": null,
   "id": "19f7d14d-a206-4930-a5b5-d4ff14b2b82c",
   "metadata": {},
   "outputs": [],
   "source": [
    "# Use the lower and upper `95%` confidence intervals to calculate the range of the possible outcomes of our $20,000\n",
    "# YOUR CODE HERE!"
   ]
  },
  {
   "cell_type": "code",
   "execution_count": null,
   "id": "2b8c071f-0526-42ab-acff-0bb4346b0621",
   "metadata": {},
   "outputs": [],
   "source": [
    "# Print results (from starter)\n",
    "print(f\"There is a 95% chance that an initial investment of ${initial_investment} in the portfolio\"\n",
    "      f\" over the next 30 years will end within in the range of\"\n",
    "      f\" ${ci_lower} and ${ci_upper}\")"
   ]
  },
  {
   "cell_type": "code",
   "execution_count": null,
   "id": "9f722ada-0884-4c6d-a710-ebecbd817093",
   "metadata": {},
   "outputs": [],
   "source": [
    "#output should be like: There is a 95% chance that an initial investment of $20000 in the portfolio over the next 30 years will end within in the range of $45939.5 and $536211.17"
   ]
  },
  {
   "cell_type": "code",
   "execution_count": null,
   "id": "4c77e6f5-5271-40de-a3b5-9cee53d800ef",
   "metadata": {},
   "outputs": [],
   "source": [
    "## Calculate the expected portfolio return at the 95% lower and upper confidence intervals based on a 50% increase in the initial investment."
   ]
  },
  {
   "cell_type": "code",
   "execution_count": null,
   "id": "85dceeb1-3bfe-4878-933e-0013828a1df8",
   "metadata": {},
   "outputs": [],
   "source": [
    "# Set initial investment\n",
    "initial_investment = 20000 * 1.5"
   ]
  },
  {
   "cell_type": "code",
   "execution_count": null,
   "id": "398cdc15-896b-4a01-b71e-f15c8397f4af",
   "metadata": {},
   "outputs": [],
   "source": [
    "# Use the lower and upper `95%` confidence intervals to calculate the range of the possible outcomes of our $30,000\n",
    "# YOUR CODE HERE!"
   ]
  },
  {
   "cell_type": "code",
   "execution_count": null,
   "id": "51265b0d-2146-4f5b-a7c8-751e4dabc98b",
   "metadata": {},
   "outputs": [],
   "source": [
    "# Print results\n",
    "print(f\"There is a 95% chance that an initial investment of ${initial_investment} in the portfolio\"\n",
    "      f\" over the next 30 years will end within in the range of\"\n",
    "      f\" ${ci_lower} and ${ci_upper}\")"
   ]
  },
  {
   "cell_type": "code",
   "execution_count": null,
   "id": "aa35c597-8e58-4607-84df-ed823aba7fb8",
   "metadata": {},
   "outputs": [],
   "source": []
  },
  {
   "cell_type": "code",
   "execution_count": null,
   "id": "cb7ef8af-58d6-4901-8e01-04cef4e9b632",
   "metadata": {},
   "outputs": [],
   "source": [
    "### Optional Challenge below see starter for starter..."
   ]
  },
  {
   "cell_type": "code",
   "execution_count": null,
   "id": "7bbee956-4196-4693-8515-c441fc29d8ec",
   "metadata": {},
   "outputs": [],
   "source": []
  },
  {
   "cell_type": "code",
   "execution_count": null,
   "id": "b8727c24-2d3f-433d-b74a-d8de980d089e",
   "metadata": {},
   "outputs": [],
   "source": []
  },
  {
   "cell_type": "code",
   "execution_count": null,
   "id": "55c474f6-9292-4ef8-b84d-b8d0e7efe20d",
   "metadata": {},
   "outputs": [],
   "source": []
  },
  {
   "cell_type": "code",
   "execution_count": null,
   "id": "ee79d38b-7add-4162-90fb-40319591c91d",
   "metadata": {},
   "outputs": [],
   "source": []
  },
  {
   "cell_type": "code",
   "execution_count": null,
   "id": "7cb2a0bc-5d45-4c4c-a654-bdfece5abbca",
   "metadata": {},
   "outputs": [],
   "source": []
  },
  {
   "cell_type": "code",
   "execution_count": null,
   "id": "59fc63c9-a32e-467d-af4b-f0215997cbcc",
   "metadata": {},
   "outputs": [],
   "source": []
  }
 ],
 "metadata": {
  "kernelspec": {
   "display_name": "Python 3 (ipykernel)",
   "language": "python",
   "name": "python3"
  },
  "language_info": {
   "codemirror_mode": {
    "name": "ipython",
    "version": 3
   },
   "file_extension": ".py",
   "mimetype": "text/x-python",
   "name": "python",
   "nbconvert_exporter": "python",
   "pygments_lexer": "ipython3",
   "version": "3.7.11"
  }
 },
 "nbformat": 4,
 "nbformat_minor": 5
}
